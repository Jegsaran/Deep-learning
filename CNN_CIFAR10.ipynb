{
  "nbformat": 4,
  "nbformat_minor": 0,
  "metadata": {
    "colab": {
      "name": "CNN_CIFAR10.ipynb",
      "provenance": [],
      "collapsed_sections": [],
      "authorship_tag": "ABX9TyPOsmsq9epVe+OlnzW03Ebl",
      "include_colab_link": true
    },
    "kernelspec": {
      "name": "python3",
      "display_name": "Python 3"
    },
    "language_info": {
      "name": "python"
    }
  },
  "cells": [
    {
      "cell_type": "markdown",
      "metadata": {
        "id": "view-in-github",
        "colab_type": "text"
      },
      "source": [
        "<a href=\"https://colab.research.google.com/github/Jegsaran/Deep-learning/blob/main/CNN_CIFAR10.ipynb\" target=\"_parent\"><img src=\"https://colab.research.google.com/assets/colab-badge.svg\" alt=\"Open In Colab\"/></a>"
      ]
    },
    {
      "cell_type": "code",
      "execution_count": 22,
      "metadata": {
        "id": "SkTwg7DyrKO9"
      },
      "outputs": [],
      "source": [
        "import tensorflow as tf\n",
        "\n",
        "import numpy as np\n",
        "import matplotlib.pyplot as plt\n",
        "\n",
        "from tensorflow.keras.layers import Input, Conv2D, Flatten, Dense, Dropout, GlobalAveragePooling2D\n",
        "from tensorflow.keras.models import Model"
      ]
    },
    {
      "cell_type": "code",
      "source": [
        "#loading dataset\n",
        "cifar = tf.keras.datasets.cifar10\n",
        "(x_train,y_train),(x_test,y_test) = cifar.load_data()"
      ],
      "metadata": {
        "id": "IwGesVKgr5EH"
      },
      "execution_count": 23,
      "outputs": []
    },
    {
      "cell_type": "code",
      "source": [
        "(x_train.shape,y_train.shape),(x_test.shape,y_test.shape)"
      ],
      "metadata": {
        "colab": {
          "base_uri": "https://localhost:8080/"
        },
        "id": "F4hGi0cItFvq",
        "outputId": "ab491f64-179e-45d4-f1a3-002df766cf82"
      },
      "execution_count": 24,
      "outputs": [
        {
          "output_type": "execute_result",
          "data": {
            "text/plain": [
              "(((50000, 32, 32, 3), (50000, 1)), ((10000, 32, 32, 3), (10000, 1)))"
            ]
          },
          "metadata": {},
          "execution_count": 24
        }
      ]
    },
    {
      "cell_type": "code",
      "source": [
        "x_train[0]"
      ],
      "metadata": {
        "colab": {
          "base_uri": "https://localhost:8080/"
        },
        "id": "ALaXzoGwus75",
        "outputId": "61680472-3ab0-4a32-deef-1f25db5d9097"
      },
      "execution_count": 25,
      "outputs": [
        {
          "output_type": "execute_result",
          "data": {
            "text/plain": [
              "array([[[ 59,  62,  63],\n",
              "        [ 43,  46,  45],\n",
              "        [ 50,  48,  43],\n",
              "        ...,\n",
              "        [158, 132, 108],\n",
              "        [152, 125, 102],\n",
              "        [148, 124, 103]],\n",
              "\n",
              "       [[ 16,  20,  20],\n",
              "        [  0,   0,   0],\n",
              "        [ 18,   8,   0],\n",
              "        ...,\n",
              "        [123,  88,  55],\n",
              "        [119,  83,  50],\n",
              "        [122,  87,  57]],\n",
              "\n",
              "       [[ 25,  24,  21],\n",
              "        [ 16,   7,   0],\n",
              "        [ 49,  27,   8],\n",
              "        ...,\n",
              "        [118,  84,  50],\n",
              "        [120,  84,  50],\n",
              "        [109,  73,  42]],\n",
              "\n",
              "       ...,\n",
              "\n",
              "       [[208, 170,  96],\n",
              "        [201, 153,  34],\n",
              "        [198, 161,  26],\n",
              "        ...,\n",
              "        [160, 133,  70],\n",
              "        [ 56,  31,   7],\n",
              "        [ 53,  34,  20]],\n",
              "\n",
              "       [[180, 139,  96],\n",
              "        [173, 123,  42],\n",
              "        [186, 144,  30],\n",
              "        ...,\n",
              "        [184, 148,  94],\n",
              "        [ 97,  62,  34],\n",
              "        [ 83,  53,  34]],\n",
              "\n",
              "       [[177, 144, 116],\n",
              "        [168, 129,  94],\n",
              "        [179, 142,  87],\n",
              "        ...,\n",
              "        [216, 184, 140],\n",
              "        [151, 118,  84],\n",
              "        [123,  92,  72]]], dtype=uint8)"
            ]
          },
          "metadata": {},
          "execution_count": 25
        }
      ]
    },
    {
      "cell_type": "code",
      "source": [
        "#Normalizing the data\n",
        "x_train,x_test = x_train/255, x_test/255\n",
        "x_train[0]"
      ],
      "metadata": {
        "colab": {
          "base_uri": "https://localhost:8080/"
        },
        "id": "cnJI1T1AtyEi",
        "outputId": "8a47c505-088b-4b50-ab43-c22fe4c89030"
      },
      "execution_count": 26,
      "outputs": [
        {
          "output_type": "execute_result",
          "data": {
            "text/plain": [
              "array([[[0.23137255, 0.24313725, 0.24705882],\n",
              "        [0.16862745, 0.18039216, 0.17647059],\n",
              "        [0.19607843, 0.18823529, 0.16862745],\n",
              "        ...,\n",
              "        [0.61960784, 0.51764706, 0.42352941],\n",
              "        [0.59607843, 0.49019608, 0.4       ],\n",
              "        [0.58039216, 0.48627451, 0.40392157]],\n",
              "\n",
              "       [[0.0627451 , 0.07843137, 0.07843137],\n",
              "        [0.        , 0.        , 0.        ],\n",
              "        [0.07058824, 0.03137255, 0.        ],\n",
              "        ...,\n",
              "        [0.48235294, 0.34509804, 0.21568627],\n",
              "        [0.46666667, 0.3254902 , 0.19607843],\n",
              "        [0.47843137, 0.34117647, 0.22352941]],\n",
              "\n",
              "       [[0.09803922, 0.09411765, 0.08235294],\n",
              "        [0.0627451 , 0.02745098, 0.        ],\n",
              "        [0.19215686, 0.10588235, 0.03137255],\n",
              "        ...,\n",
              "        [0.4627451 , 0.32941176, 0.19607843],\n",
              "        [0.47058824, 0.32941176, 0.19607843],\n",
              "        [0.42745098, 0.28627451, 0.16470588]],\n",
              "\n",
              "       ...,\n",
              "\n",
              "       [[0.81568627, 0.66666667, 0.37647059],\n",
              "        [0.78823529, 0.6       , 0.13333333],\n",
              "        [0.77647059, 0.63137255, 0.10196078],\n",
              "        ...,\n",
              "        [0.62745098, 0.52156863, 0.2745098 ],\n",
              "        [0.21960784, 0.12156863, 0.02745098],\n",
              "        [0.20784314, 0.13333333, 0.07843137]],\n",
              "\n",
              "       [[0.70588235, 0.54509804, 0.37647059],\n",
              "        [0.67843137, 0.48235294, 0.16470588],\n",
              "        [0.72941176, 0.56470588, 0.11764706],\n",
              "        ...,\n",
              "        [0.72156863, 0.58039216, 0.36862745],\n",
              "        [0.38039216, 0.24313725, 0.13333333],\n",
              "        [0.3254902 , 0.20784314, 0.13333333]],\n",
              "\n",
              "       [[0.69411765, 0.56470588, 0.45490196],\n",
              "        [0.65882353, 0.50588235, 0.36862745],\n",
              "        [0.70196078, 0.55686275, 0.34117647],\n",
              "        ...,\n",
              "        [0.84705882, 0.72156863, 0.54901961],\n",
              "        [0.59215686, 0.4627451 , 0.32941176],\n",
              "        [0.48235294, 0.36078431, 0.28235294]]])"
            ]
          },
          "metadata": {},
          "execution_count": 26
        }
      ]
    },
    {
      "cell_type": "code",
      "source": [
        "(x_train.shape,y_train.shape),(x_test.shape,y_test.shape)"
      ],
      "metadata": {
        "colab": {
          "base_uri": "https://localhost:8080/"
        },
        "id": "_QqBsTYfwJ1k",
        "outputId": "0cd25640-1ddf-47aa-9b16-93ab88531fd8"
      },
      "execution_count": 27,
      "outputs": [
        {
          "output_type": "execute_result",
          "data": {
            "text/plain": [
              "(((50000, 32, 32, 3), (50000, 1)), ((10000, 32, 32, 3), (10000, 1)))"
            ]
          },
          "metadata": {},
          "execution_count": 27
        }
      ]
    },
    {
      "cell_type": "code",
      "source": [
        "#Since the output data should be a 1D array, lets flatten the y_train & y_test\n",
        "\n",
        "y_train,y_test = y_train.flatten(),y_test.flatten()\n",
        "x_train.shape, y_train.shape, x_test.shape, y_test.shape"
      ],
      "metadata": {
        "colab": {
          "base_uri": "https://localhost:8080/"
        },
        "id": "jh47dOskvk8M",
        "outputId": "d54cdab3-7dc3-45ca-e1d4-da3e36fecf9c"
      },
      "execution_count": 28,
      "outputs": [
        {
          "output_type": "execute_result",
          "data": {
            "text/plain": [
              "((50000, 32, 32, 3), (50000,), (10000, 32, 32, 3), (10000,))"
            ]
          },
          "metadata": {},
          "execution_count": 28
        }
      ]
    },
    {
      "cell_type": "code",
      "source": [
        "# number of classes\n",
        "\n",
        "K = len(set(y_train))\n",
        "print(\"number of classes:\",K)"
      ],
      "metadata": {
        "colab": {
          "base_uri": "https://localhost:8080/"
        },
        "id": "24H44qGvurUX",
        "outputId": "3f39edf9-afe0-4361-8c76-e6f10d4f0eaa"
      },
      "execution_count": 29,
      "outputs": [
        {
          "output_type": "stream",
          "name": "stdout",
          "text": [
            "number of classes: 10\n"
          ]
        }
      ]
    },
    {
      "cell_type": "code",
      "source": [
        "#Model Building\n",
        "\n",
        "i = Input(shape=x_train[0].shape)\n",
        "x = Conv2D(32,(3,3),strides=2,activation='relu')(i)\n",
        "x = Conv2D(64,(3,3),strides=2,activation='relu')(x)\n",
        "x = Conv2D(128,(3,3),strides=2,activation='relu')(x)\n",
        "x = Flatten()(x)\n",
        "x = Dropout(0.2)(x)\n",
        "x = Dense(256,activation='relu')(x)\n",
        "x = Dropout(0.2)(x)\n",
        "x = Dense(K,activation='softmax')(x)\n",
        "\n",
        "model = Model(i,x)"
      ],
      "metadata": {
        "id": "THS2s1WbvKJY"
      },
      "execution_count": 31,
      "outputs": []
    },
    {
      "cell_type": "code",
      "source": [
        "#Model Compilation\n",
        "\n",
        "model.compile(optimizer='adam',\n",
        "              loss = 'sparse_categorical_crossentropy',\n",
        "              metrics = ['accuracy'])"
      ],
      "metadata": {
        "id": "usCbzZ7c03en"
      },
      "execution_count": 32,
      "outputs": []
    },
    {
      "cell_type": "code",
      "source": [
        "r = model.fit(x_train,y_train, validation_data= (x_test,y_test),epochs = 15)"
      ],
      "metadata": {
        "colab": {
          "base_uri": "https://localhost:8080/"
        },
        "id": "do5NLx699D6D",
        "outputId": "76a4874f-725d-4cba-8060-405d3e2c1e3b"
      },
      "execution_count": 33,
      "outputs": [
        {
          "output_type": "stream",
          "name": "stdout",
          "text": [
            "Epoch 1/15\n",
            "1563/1563 [==============================] - 41s 26ms/step - loss: 1.5723 - accuracy: 0.4269 - val_loss: 1.3045 - val_accuracy: 0.5258\n",
            "Epoch 2/15\n",
            "1563/1563 [==============================] - 38s 24ms/step - loss: 1.2396 - accuracy: 0.5571 - val_loss: 1.1604 - val_accuracy: 0.5868\n",
            "Epoch 3/15\n",
            "1563/1563 [==============================] - 40s 25ms/step - loss: 1.0935 - accuracy: 0.6105 - val_loss: 1.0512 - val_accuracy: 0.6269\n",
            "Epoch 4/15\n",
            "1563/1563 [==============================] - 39s 25ms/step - loss: 0.9810 - accuracy: 0.6498 - val_loss: 0.9585 - val_accuracy: 0.6539\n",
            "Epoch 5/15\n",
            "1563/1563 [==============================] - 39s 25ms/step - loss: 0.9094 - accuracy: 0.6771 - val_loss: 0.9794 - val_accuracy: 0.6545\n",
            "Epoch 6/15\n",
            "1563/1563 [==============================] - 40s 26ms/step - loss: 0.8399 - accuracy: 0.7020 - val_loss: 0.9235 - val_accuracy: 0.6782\n",
            "Epoch 7/15\n",
            "1563/1563 [==============================] - 40s 26ms/step - loss: 0.7863 - accuracy: 0.7212 - val_loss: 0.9244 - val_accuracy: 0.6824\n",
            "Epoch 8/15\n",
            "1563/1563 [==============================] - 40s 26ms/step - loss: 0.7378 - accuracy: 0.7368 - val_loss: 0.9386 - val_accuracy: 0.6830\n",
            "Epoch 9/15\n",
            "1563/1563 [==============================] - 39s 25ms/step - loss: 0.6949 - accuracy: 0.7508 - val_loss: 0.8799 - val_accuracy: 0.6973\n",
            "Epoch 10/15\n",
            "1563/1563 [==============================] - 41s 26ms/step - loss: 0.6615 - accuracy: 0.7634 - val_loss: 0.8741 - val_accuracy: 0.7028\n",
            "Epoch 11/15\n",
            "1563/1563 [==============================] - 41s 26ms/step - loss: 0.6224 - accuracy: 0.7784 - val_loss: 0.8661 - val_accuracy: 0.7144\n",
            "Epoch 12/15\n",
            "1563/1563 [==============================] - 40s 26ms/step - loss: 0.5892 - accuracy: 0.7882 - val_loss: 0.9493 - val_accuracy: 0.6894\n",
            "Epoch 13/15\n",
            "1563/1563 [==============================] - 40s 26ms/step - loss: 0.5667 - accuracy: 0.7976 - val_loss: 0.9185 - val_accuracy: 0.7012\n",
            "Epoch 14/15\n",
            "1563/1563 [==============================] - 40s 26ms/step - loss: 0.5460 - accuracy: 0.8031 - val_loss: 0.9186 - val_accuracy: 0.6994\n",
            "Epoch 15/15\n",
            "1563/1563 [==============================] - 41s 26ms/step - loss: 0.5193 - accuracy: 0.8135 - val_loss: 0.9560 - val_accuracy: 0.6898\n"
          ]
        }
      ]
    },
    {
      "cell_type": "code",
      "source": [
        "#plotting loss per iteration\n",
        "\n",
        "plt.plot(r.history['loss'],label='loss')\n",
        "plt.plot(r.history['val_loss'],label='val_loss')\n",
        "plt.legend()\n",
        "plt.show()"
      ],
      "metadata": {
        "colab": {
          "base_uri": "https://localhost:8080/",
          "height": 265
        },
        "id": "wiw7GDRa9dxA",
        "outputId": "cf235bb2-8354-46e0-df28-d22c6931ed81"
      },
      "execution_count": 34,
      "outputs": [
        {
          "output_type": "display_data",
          "data": {
            "text/plain": [
              "<Figure size 432x288 with 1 Axes>"
            ],
            "image/png": "[encoded data removed]"
          },
          "metadata": {
            "needs_background": "light"
          }
        }
      ]
    },
    {
      "cell_type": "code",
      "source": [
        "#plotting accuracy per iteration\n",
        "\n",
        "plt.plot(r.history['accuracy'],label='accuracy')\n",
        "plt.plot(r.history['val_accuracy'],label='val_accuracy')\n",
        "plt.legend()\n",
        "plt.show()"
      ],
      "metadata": {
        "colab": {
          "base_uri": "https://localhost:8080/",
          "height": 265
        },
        "id": "NY4yRP-lAV4j",
        "outputId": "234003a7-73df-41ff-8ca9-3a75ab722202"
      },
      "execution_count": 35,
      "outputs": [
        {
          "output_type": "display_data",
          "data": {
            "text/plain": [
              "<Figure size 432x288 with 1 Axes>"
            ],
            "image/png": "[encoded data removed]"
          },
          "metadata": {
            "needs_background": "light"
          }
        }
      ]
    },
    {
      "cell_type": "code",
      "source": [
        "#Model Evaluation\n",
        "\n",
        "print(model.evaluate(x_test,y_test))"
      ],
      "metadata": {
        "colab": {
          "base_uri": "https://localhost:8080/"
        },
        "id": "Nc-9OqDNBKXw",
        "outputId": "b4f3f8fe-d85a-4c0a-e17b-acadce69c049"
      },
      "execution_count": 36,
      "outputs": [
        {
          "output_type": "stream",
          "name": "stdout",
          "text": [
            "313/313 [==============================] - 3s 9ms/step - loss: 0.9560 - accuracy: 0.6898\n",
            "[0.9559835195541382, 0.6898000240325928]\n"
          ]
        }
      ]
    },
    {
      "cell_type": "markdown",
      "source": [
        "**Observation:**\n",
        "\n",
        "We got an accuracy of ~69 %. \n",
        "Its evident from the loss and accuracy curve that the model could be Overfitting.\n",
        "\n",
        "Inorder to overcome this we can try Max_pooling & Batch_Normalization."
      ],
      "metadata": {
        "id": "p5l6cNzfAwho"
      }
    },
    {
      "cell_type": "code",
      "source": [
        ""
      ],
      "metadata": {
        "id": "w5ETRdliAsGR"
      },
      "execution_count": null,
      "outputs": []
    }
  ]
}