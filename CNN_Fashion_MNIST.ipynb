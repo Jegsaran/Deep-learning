{
  "nbformat": 4,
  "nbformat_minor": 0,
  "metadata": {
    "colab": {
      "name": "CNN_Fashion_MNIST.ipynb",
      "provenance": [],
      "collapsed_sections": [],
      "authorship_tag": "ABX9TyPAL2zHRjYt+1ZBtE2+Ym/p",
      "include_colab_link": true
    },
    "kernelspec": {
      "name": "python3",
      "display_name": "Python 3"
    },
    "language_info": {
      "name": "python"
    }
  },
  "cells": [
    {
      "cell_type": "markdown",
      "metadata": {
        "id": "view-in-github",
        "colab_type": "text"
      },
      "source": [
        "<a href=\"https://colab.research.google.com/github/Jegsaran/Deep-learning/blob/main/CNN_Fashion_MNIST.ipynb\" target=\"_parent\"><img src=\"https://colab.research.google.com/assets/colab-badge.svg\" alt=\"Open In Colab\"/></a>"
      ]
    },
    {
      "cell_type": "code",
      "execution_count": 1,
      "metadata": {
        "id": "VMGthM8MAfn3"
      },
      "outputs": [],
      "source": [
        "import numpy as np\n",
        "import pandas as pd\n",
        "import matplotlib.pyplot as plt\n",
        "\n",
        "import tensorflow as tf\n",
        "from keras.layers import Input, Conv2D, Dense, Flatten, Dropout\n",
        "from keras.models import Model"
      ]
    },
    {
      "cell_type": "code",
      "source": [
        " f_mnist = tf.keras.datasets.fashion_mnist\n",
        " (x_train,y_train),(x_test,y_test) = f_mnist.load_data()"
      ],
      "metadata": {
        "colab": {
          "base_uri": "https://localhost:8080/"
        },
        "id": "hxT6cKJiFFX5",
        "outputId": "ff8fb927-61a8-4d6c-fbfb-8b7e7f8826fa"
      },
      "execution_count": 2,
      "outputs": [
        {
          "output_type": "stream",
          "name": "stdout",
          "text": [
            "Downloading data from https://storage.googleapis.com/tensorflow/tf-keras-datasets/train-labels-idx1-ubyte.gz\n",
            "32768/29515 [=================================] - 0s 0us/step\n",
            "40960/29515 [=========================================] - 0s 0us/step\n",
            "Downloading data from https://storage.googleapis.com/tensorflow/tf-keras-datasets/train-images-idx3-ubyte.gz\n",
            "26427392/26421880 [==============================] - 0s 0us/step\n",
            "26435584/26421880 [==============================] - 0s 0us/step\n",
            "Downloading data from https://storage.googleapis.com/tensorflow/tf-keras-datasets/t10k-labels-idx1-ubyte.gz\n",
            "16384/5148 [===============================================================================================] - 0s 0us/step\n",
            "Downloading data from https://storage.googleapis.com/tensorflow/tf-keras-datasets/t10k-images-idx3-ubyte.gz\n",
            "4423680/4422102 [==============================] - 0s 0us/step\n",
            "4431872/4422102 [==============================] - 0s 0us/step\n"
          ]
        }
      ]
    },
    {
      "cell_type": "code",
      "source": [
        "(x_train.shape,y_train.shape),(x_test.shape,y_test.shape)"
      ],
      "metadata": {
        "colab": {
          "base_uri": "https://localhost:8080/"
        },
        "id": "SUwbV4oEIXx0",
        "outputId": "34d9dba9-96fa-486c-ebd7-5c538d63b18a"
      },
      "execution_count": 3,
      "outputs": [
        {
          "output_type": "execute_result",
          "data": {
            "text/plain": [
              "(((60000, 28, 28), (60000,)), ((10000, 28, 28), (10000,)))"
            ]
          },
          "metadata": {},
          "execution_count": 3
        }
      ]
    },
    {
      "cell_type": "markdown",
      "source": [
        "Labels\n",
        "\n",
        "Each training and test example is assigned to one of the following labels:\n",
        "\n",
        "0 T-shirt/top\n",
        "\n",
        "1 Trouser\n",
        "\n",
        "2 Pullover\n",
        "\n",
        "3 Dress\n",
        "\n",
        "4 Coat\n",
        "\n",
        "5 Sandal\n",
        "\n",
        "6 Shirt\n",
        "\n",
        "7 Sneaker\n",
        "\n",
        "8 Bag\n",
        "\n",
        "9 Ankle boot"
      ],
      "metadata": {
        "id": "-w6Uq9qhO2-3"
      }
    },
    {
      "cell_type": "code",
      "source": [
        "plt.figure(figsize=(2,2))\n",
        "plt.imshow(x_train[5],cmap='gray')\n",
        "plt.show()\n",
        "\n",
        "print(y_train[5])"
      ],
      "metadata": {
        "colab": {
          "base_uri": "https://localhost:8080/",
          "height": 176
        },
        "id": "IV7JOCv_Ivb0",
        "outputId": "4a31cf01-b322-4d3c-a8a2-c8abf2a01656"
      },
      "execution_count": 4,
      "outputs": [
        {
          "output_type": "display_data",
          "data": {
            "text/plain": [
              "<Figure size 144x144 with 1 Axes>"
            ],
            "image/png": "[encoded data removed]"
          },
          "metadata": {
            "needs_background": "light"
          }
        },
        {
          "output_type": "stream",
          "name": "stdout",
          "text": [
            "2\n"
          ]
        }
      ]
    },
    {
      "cell_type": "code",
      "source": [
        "x_train[5]"
      ],
      "metadata": {
        "colab": {
          "base_uri": "https://localhost:8080/"
        },
        "id": "zls-htv2QV6R",
        "outputId": "023d5666-fd56-4139-b32c-a963adc36434"
      },
      "execution_count": 5,
      "outputs": [
        {
          "output_type": "execute_result",
          "data": {
            "text/plain": [
              "array([[  0,   0,   0,   0,   1,   0,   0,   0,   0,  22,  88, 188, 172,\n",
              "        132, 125, 141, 199, 143,   9,   0,   0,   0,   1,   0,   0,   0,\n",
              "          0,   0],\n",
              "       [  0,   0,   0,   1,   0,   0,  20, 131, 199, 206, 196, 202, 242,\n",
              "        255, 255, 250, 222, 197, 206, 188, 126,  17,   0,   0,   0,   0,\n",
              "          0,   0],\n",
              "       [  0,   0,   0,   1,   0,  35, 214, 191, 183, 178, 175, 168, 150,\n",
              "        162, 159, 152, 158, 179, 183, 189, 195, 185,  82,   0,   0,   0,\n",
              "          0,   0],\n",
              "       [  0,   0,   0,   0,   0, 170, 190, 172, 177, 176, 171, 169, 162,\n",
              "        155, 148, 154, 169, 174, 175, 175, 177, 183, 188,  12,   0,   0,\n",
              "          0,   0],\n",
              "       [  0,   0,   0,   0,  25, 194, 180, 178, 174, 184, 187, 189, 187,\n",
              "        184, 181, 189, 200, 197, 193, 190, 178, 175, 194,  90,   0,   0,\n",
              "          0,   0],\n",
              "       [  0,   0,   0,   0,  42, 218, 191, 197, 208, 204, 211, 209, 210,\n",
              "        212, 211, 214, 215, 213, 214, 211, 211, 191, 200, 158,   0,   0,\n",
              "          0,   0],\n",
              "       [  0,   0,   0,   0,  88, 221, 215, 217, 219, 211, 185, 150, 118,\n",
              "        107,  99,  88,  83,  90, 135, 212, 203, 207, 219, 169,   0,   0,\n",
              "          0,   0],\n",
              "       [  0,   0,   0,   0,   0,  27, 118, 162,  40,   0,   0,   0,  10,\n",
              "         19,  28,  39,  47,  36,   0,   0, 203, 230, 220, 203,   0,   0,\n",
              "          0,   0],\n",
              "       [  0,   0,   0,   0, 138, 136,  71,  69,  54, 216, 217, 203, 184,\n",
              "        168, 163, 162, 163, 178, 221, 186,  38,  26,   7,   0,   0,   0,\n",
              "          0,   0],\n",
              "       [  0,   0,   0,   0,  67, 134, 154, 224, 129,  66,  81, 117, 129,\n",
              "        128, 132, 137, 131, 129,  86,  73, 157, 151, 134, 216,  18,   0,\n",
              "          0,   0],\n",
              "       [  0,   0,   0,   0, 203, 198, 172, 183, 206, 255, 255, 250, 243,\n",
              "        240, 239, 235, 238, 244, 255, 238, 184, 160,  86,  98,   0,   0,\n",
              "          0,   0],\n",
              "       [  0,   0,   0,   0, 122, 188, 224, 151, 105, 127,  97, 100, 105,\n",
              "        114, 117, 117, 113, 103,  98, 111, 142, 254, 191, 255,  49,   0,\n",
              "          0,   0],\n",
              "       [  0,   0,   0,   0, 163, 179, 200,  95, 154, 198, 197, 200, 200,\n",
              "        198, 197, 198, 199, 202, 200, 176,  86, 206, 157, 162,  10,   0,\n",
              "          0,   0],\n",
              "       [  0,   0,   0,   0, 197, 201, 229,  71, 144, 194, 181, 183, 179,\n",
              "        182, 180, 179, 180, 190, 185, 197,  76, 219, 185, 201,  34,   0,\n",
              "          0,   0],\n",
              "       [  0,   0,   0,   0, 199, 193, 226,  58, 154, 192, 184, 187, 184,\n",
              "        186, 184, 185, 183, 192, 191, 200,  56, 219, 203, 207,  60,   0,\n",
              "          0,   0],\n",
              "       [  0,   0,   0,   0, 201, 194, 224,  41, 163, 190, 186, 186, 184,\n",
              "        185, 183, 185, 178, 190, 194, 202,  33, 211, 200, 206,  73,   0,\n",
              "          0,   0],\n",
              "       [  0,   0,   0,   0, 201, 197, 222,  17, 172, 190, 186, 187, 182,\n",
              "        186, 185, 187, 180, 187, 193, 202,  26, 212, 202, 203,  76,   0,\n",
              "          0,   0],\n",
              "       [  0,   0,   0,   0, 200, 197, 223,   0, 177, 189, 184, 185, 178,\n",
              "        184, 183, 184, 180, 183, 189, 203,  35, 196, 203, 203,  84,   0,\n",
              "          0,   0],\n",
              "       [  0,   0,   0,   0, 200, 197, 223,   0, 185, 187, 185, 187, 180,\n",
              "        184, 182, 183, 178, 182, 183, 205,  44, 159, 207, 201,  85,   0,\n",
              "          0,   0],\n",
              "       [  0,   0,   0,   0, 187, 198, 225,   0, 194, 188, 184, 185, 180,\n",
              "        183, 183, 184, 181, 181, 177, 206,  46, 129, 211, 200,  88,   0,\n",
              "          0,   0],\n",
              "       [  0,   0,   0,   6, 186, 200, 211,   0, 199, 189, 184, 184, 185,\n",
              "        182, 183, 184, 185, 182, 175, 205,  50,  97, 216, 197,  93,   0,\n",
              "          0,   0],\n",
              "       [  0,   0,   0,   5, 185, 204, 184,   0, 202, 188, 182, 182, 183,\n",
              "        183, 184, 182, 180, 182, 174, 202,  63,  59, 220, 196,  94,   0,\n",
              "          0,   0],\n",
              "       [  0,   0,   0,   5, 184, 206, 157,   0, 204, 187, 187, 189, 192,\n",
              "        190, 190, 191, 190, 187, 183, 202,  78,  35, 222, 197,  95,   0,\n",
              "          0,   0],\n",
              "       [  0,   0,   0,   5, 183, 208, 127,   0, 197, 166, 153, 149, 149,\n",
              "        146, 148, 149, 150, 151, 158, 191,  90,   8, 223, 195,  99,   0,\n",
              "          0,   0],\n",
              "       [  0,   0,   0,   6, 184, 208, 114,   0, 204, 173, 161, 180, 176,\n",
              "        172, 173, 173, 174, 176, 162, 202, 115,   0, 229, 199, 105,   0,\n",
              "          0,   0],\n",
              "       [  0,   0,   0,   9, 178, 204, 115,   0, 121, 135, 114, 117, 114,\n",
              "        114, 117, 118, 119, 117, 113, 147,  63,   0, 225, 196, 107,   0,\n",
              "          0,   0],\n",
              "       [  0,   0,   0,  18, 180, 206, 131,   0,   0,   0,   0,   0,   0,\n",
              "          0,   0,   0,   0,   0,   0,   0,   0,   0, 224, 197, 123,   0,\n",
              "          0,   0],\n",
              "       [  0,   0,   0,   0, 141, 151,  76,   0,   1,   1,   0,   0,   0,\n",
              "          0,   0,   0,   0,   0,   0,   0,   0,   0, 133, 167,  73,   0,\n",
              "          0,   0]], dtype=uint8)"
            ]
          },
          "metadata": {},
          "execution_count": 5
        }
      ]
    },
    {
      "cell_type": "code",
      "source": [
        "#Normalizing the data to reduce the memory\n",
        "\n",
        "x_train, x_test = x_train/255, x_test/255"
      ],
      "metadata": {
        "id": "PuXYSujJJ6xb"
      },
      "execution_count": 6,
      "outputs": []
    },
    {
      "cell_type": "code",
      "source": [
        "x_train[5]"
      ],
      "metadata": {
        "colab": {
          "base_uri": "https://localhost:8080/"
        },
        "id": "jGJg71FDPUX2",
        "outputId": "cd846c43-95cd-4a9a-b7ba-15825e13b5dc"
      },
      "execution_count": 7,
      "outputs": [
        {
          "output_type": "execute_result",
          "data": {
            "text/plain": [
              "array([[0.        , 0.        , 0.        , 0.        , 0.00392157,\n",
              "        0.        , 0.        , 0.        , 0.        , 0.08627451,\n",
              "        0.34509804, 0.7372549 , 0.6745098 , 0.51764706, 0.49019608,\n",
              "        0.55294118, 0.78039216, 0.56078431, 0.03529412, 0.        ,\n",
              "        0.        , 0.        , 0.00392157, 0.        , 0.        ,\n",
              "        0.        , 0.        , 0.        ],\n",
              "       [0.        , 0.        , 0.        , 0.00392157, 0.        ,\n",
              "        0.        , 0.07843137, 0.51372549, 0.78039216, 0.80784314,\n",
              "        0.76862745, 0.79215686, 0.94901961, 1.        , 1.        ,\n",
              "        0.98039216, 0.87058824, 0.77254902, 0.80784314, 0.7372549 ,\n",
              "        0.49411765, 0.06666667, 0.        , 0.        , 0.        ,\n",
              "        0.        , 0.        , 0.        ],\n",
              "       [0.        , 0.        , 0.        , 0.00392157, 0.        ,\n",
              "        0.1372549 , 0.83921569, 0.74901961, 0.71764706, 0.69803922,\n",
              "        0.68627451, 0.65882353, 0.58823529, 0.63529412, 0.62352941,\n",
              "        0.59607843, 0.61960784, 0.70196078, 0.71764706, 0.74117647,\n",
              "        0.76470588, 0.7254902 , 0.32156863, 0.        , 0.        ,\n",
              "        0.        , 0.        , 0.        ],\n",
              "       [0.        , 0.        , 0.        , 0.        , 0.        ,\n",
              "        0.66666667, 0.74509804, 0.6745098 , 0.69411765, 0.69019608,\n",
              "        0.67058824, 0.6627451 , 0.63529412, 0.60784314, 0.58039216,\n",
              "        0.60392157, 0.6627451 , 0.68235294, 0.68627451, 0.68627451,\n",
              "        0.69411765, 0.71764706, 0.7372549 , 0.04705882, 0.        ,\n",
              "        0.        , 0.        , 0.        ],\n",
              "       [0.        , 0.        , 0.        , 0.        , 0.09803922,\n",
              "        0.76078431, 0.70588235, 0.69803922, 0.68235294, 0.72156863,\n",
              "        0.73333333, 0.74117647, 0.73333333, 0.72156863, 0.70980392,\n",
              "        0.74117647, 0.78431373, 0.77254902, 0.75686275, 0.74509804,\n",
              "        0.69803922, 0.68627451, 0.76078431, 0.35294118, 0.        ,\n",
              "        0.        , 0.        , 0.        ],\n",
              "       [0.        , 0.        , 0.        , 0.        , 0.16470588,\n",
              "        0.85490196, 0.74901961, 0.77254902, 0.81568627, 0.8       ,\n",
              "        0.82745098, 0.81960784, 0.82352941, 0.83137255, 0.82745098,\n",
              "        0.83921569, 0.84313725, 0.83529412, 0.83921569, 0.82745098,\n",
              "        0.82745098, 0.74901961, 0.78431373, 0.61960784, 0.        ,\n",
              "        0.        , 0.        , 0.        ],\n",
              "       [0.        , 0.        , 0.        , 0.        , 0.34509804,\n",
              "        0.86666667, 0.84313725, 0.85098039, 0.85882353, 0.82745098,\n",
              "        0.7254902 , 0.58823529, 0.4627451 , 0.41960784, 0.38823529,\n",
              "        0.34509804, 0.3254902 , 0.35294118, 0.52941176, 0.83137255,\n",
              "        0.79607843, 0.81176471, 0.85882353, 0.6627451 , 0.        ,\n",
              "        0.        , 0.        , 0.        ],\n",
              "       [0.        , 0.        , 0.        , 0.        , 0.        ,\n",
              "        0.10588235, 0.4627451 , 0.63529412, 0.15686275, 0.        ,\n",
              "        0.        , 0.        , 0.03921569, 0.0745098 , 0.10980392,\n",
              "        0.15294118, 0.18431373, 0.14117647, 0.        , 0.        ,\n",
              "        0.79607843, 0.90196078, 0.8627451 , 0.79607843, 0.        ,\n",
              "        0.        , 0.        , 0.        ],\n",
              "       [0.        , 0.        , 0.        , 0.        , 0.54117647,\n",
              "        0.53333333, 0.27843137, 0.27058824, 0.21176471, 0.84705882,\n",
              "        0.85098039, 0.79607843, 0.72156863, 0.65882353, 0.63921569,\n",
              "        0.63529412, 0.63921569, 0.69803922, 0.86666667, 0.72941176,\n",
              "        0.14901961, 0.10196078, 0.02745098, 0.        , 0.        ,\n",
              "        0.        , 0.        , 0.        ],\n",
              "       [0.        , 0.        , 0.        , 0.        , 0.2627451 ,\n",
              "        0.5254902 , 0.60392157, 0.87843137, 0.50588235, 0.25882353,\n",
              "        0.31764706, 0.45882353, 0.50588235, 0.50196078, 0.51764706,\n",
              "        0.5372549 , 0.51372549, 0.50588235, 0.3372549 , 0.28627451,\n",
              "        0.61568627, 0.59215686, 0.5254902 , 0.84705882, 0.07058824,\n",
              "        0.        , 0.        , 0.        ],\n",
              "       [0.        , 0.        , 0.        , 0.        , 0.79607843,\n",
              "        0.77647059, 0.6745098 , 0.71764706, 0.80784314, 1.        ,\n",
              "        1.        , 0.98039216, 0.95294118, 0.94117647, 0.9372549 ,\n",
              "        0.92156863, 0.93333333, 0.95686275, 1.        , 0.93333333,\n",
              "        0.72156863, 0.62745098, 0.3372549 , 0.38431373, 0.        ,\n",
              "        0.        , 0.        , 0.        ],\n",
              "       [0.        , 0.        , 0.        , 0.        , 0.47843137,\n",
              "        0.7372549 , 0.87843137, 0.59215686, 0.41176471, 0.49803922,\n",
              "        0.38039216, 0.39215686, 0.41176471, 0.44705882, 0.45882353,\n",
              "        0.45882353, 0.44313725, 0.40392157, 0.38431373, 0.43529412,\n",
              "        0.55686275, 0.99607843, 0.74901961, 1.        , 0.19215686,\n",
              "        0.        , 0.        , 0.        ],\n",
              "       [0.        , 0.        , 0.        , 0.        , 0.63921569,\n",
              "        0.70196078, 0.78431373, 0.37254902, 0.60392157, 0.77647059,\n",
              "        0.77254902, 0.78431373, 0.78431373, 0.77647059, 0.77254902,\n",
              "        0.77647059, 0.78039216, 0.79215686, 0.78431373, 0.69019608,\n",
              "        0.3372549 , 0.80784314, 0.61568627, 0.63529412, 0.03921569,\n",
              "        0.        , 0.        , 0.        ],\n",
              "       [0.        , 0.        , 0.        , 0.        , 0.77254902,\n",
              "        0.78823529, 0.89803922, 0.27843137, 0.56470588, 0.76078431,\n",
              "        0.70980392, 0.71764706, 0.70196078, 0.71372549, 0.70588235,\n",
              "        0.70196078, 0.70588235, 0.74509804, 0.7254902 , 0.77254902,\n",
              "        0.29803922, 0.85882353, 0.7254902 , 0.78823529, 0.13333333,\n",
              "        0.        , 0.        , 0.        ],\n",
              "       [0.        , 0.        , 0.        , 0.        , 0.78039216,\n",
              "        0.75686275, 0.88627451, 0.22745098, 0.60392157, 0.75294118,\n",
              "        0.72156863, 0.73333333, 0.72156863, 0.72941176, 0.72156863,\n",
              "        0.7254902 , 0.71764706, 0.75294118, 0.74901961, 0.78431373,\n",
              "        0.21960784, 0.85882353, 0.79607843, 0.81176471, 0.23529412,\n",
              "        0.        , 0.        , 0.        ],\n",
              "       [0.        , 0.        , 0.        , 0.        , 0.78823529,\n",
              "        0.76078431, 0.87843137, 0.16078431, 0.63921569, 0.74509804,\n",
              "        0.72941176, 0.72941176, 0.72156863, 0.7254902 , 0.71764706,\n",
              "        0.7254902 , 0.69803922, 0.74509804, 0.76078431, 0.79215686,\n",
              "        0.12941176, 0.82745098, 0.78431373, 0.80784314, 0.28627451,\n",
              "        0.        , 0.        , 0.        ],\n",
              "       [0.        , 0.        , 0.        , 0.        , 0.78823529,\n",
              "        0.77254902, 0.87058824, 0.06666667, 0.6745098 , 0.74509804,\n",
              "        0.72941176, 0.73333333, 0.71372549, 0.72941176, 0.7254902 ,\n",
              "        0.73333333, 0.70588235, 0.73333333, 0.75686275, 0.79215686,\n",
              "        0.10196078, 0.83137255, 0.79215686, 0.79607843, 0.29803922,\n",
              "        0.        , 0.        , 0.        ],\n",
              "       [0.        , 0.        , 0.        , 0.        , 0.78431373,\n",
              "        0.77254902, 0.8745098 , 0.        , 0.69411765, 0.74117647,\n",
              "        0.72156863, 0.7254902 , 0.69803922, 0.72156863, 0.71764706,\n",
              "        0.72156863, 0.70588235, 0.71764706, 0.74117647, 0.79607843,\n",
              "        0.1372549 , 0.76862745, 0.79607843, 0.79607843, 0.32941176,\n",
              "        0.        , 0.        , 0.        ],\n",
              "       [0.        , 0.        , 0.        , 0.        , 0.78431373,\n",
              "        0.77254902, 0.8745098 , 0.        , 0.7254902 , 0.73333333,\n",
              "        0.7254902 , 0.73333333, 0.70588235, 0.72156863, 0.71372549,\n",
              "        0.71764706, 0.69803922, 0.71372549, 0.71764706, 0.80392157,\n",
              "        0.17254902, 0.62352941, 0.81176471, 0.78823529, 0.33333333,\n",
              "        0.        , 0.        , 0.        ],\n",
              "       [0.        , 0.        , 0.        , 0.        , 0.73333333,\n",
              "        0.77647059, 0.88235294, 0.        , 0.76078431, 0.7372549 ,\n",
              "        0.72156863, 0.7254902 , 0.70588235, 0.71764706, 0.71764706,\n",
              "        0.72156863, 0.70980392, 0.70980392, 0.69411765, 0.80784314,\n",
              "        0.18039216, 0.50588235, 0.82745098, 0.78431373, 0.34509804,\n",
              "        0.        , 0.        , 0.        ],\n",
              "       [0.        , 0.        , 0.        , 0.02352941, 0.72941176,\n",
              "        0.78431373, 0.82745098, 0.        , 0.78039216, 0.74117647,\n",
              "        0.72156863, 0.72156863, 0.7254902 , 0.71372549, 0.71764706,\n",
              "        0.72156863, 0.7254902 , 0.71372549, 0.68627451, 0.80392157,\n",
              "        0.19607843, 0.38039216, 0.84705882, 0.77254902, 0.36470588,\n",
              "        0.        , 0.        , 0.        ],\n",
              "       [0.        , 0.        , 0.        , 0.01960784, 0.7254902 ,\n",
              "        0.8       , 0.72156863, 0.        , 0.79215686, 0.7372549 ,\n",
              "        0.71372549, 0.71372549, 0.71764706, 0.71764706, 0.72156863,\n",
              "        0.71372549, 0.70588235, 0.71372549, 0.68235294, 0.79215686,\n",
              "        0.24705882, 0.23137255, 0.8627451 , 0.76862745, 0.36862745,\n",
              "        0.        , 0.        , 0.        ],\n",
              "       [0.        , 0.        , 0.        , 0.01960784, 0.72156863,\n",
              "        0.80784314, 0.61568627, 0.        , 0.8       , 0.73333333,\n",
              "        0.73333333, 0.74117647, 0.75294118, 0.74509804, 0.74509804,\n",
              "        0.74901961, 0.74509804, 0.73333333, 0.71764706, 0.79215686,\n",
              "        0.30588235, 0.1372549 , 0.87058824, 0.77254902, 0.37254902,\n",
              "        0.        , 0.        , 0.        ],\n",
              "       [0.        , 0.        , 0.        , 0.01960784, 0.71764706,\n",
              "        0.81568627, 0.49803922, 0.        , 0.77254902, 0.65098039,\n",
              "        0.6       , 0.58431373, 0.58431373, 0.57254902, 0.58039216,\n",
              "        0.58431373, 0.58823529, 0.59215686, 0.61960784, 0.74901961,\n",
              "        0.35294118, 0.03137255, 0.8745098 , 0.76470588, 0.38823529,\n",
              "        0.        , 0.        , 0.        ],\n",
              "       [0.        , 0.        , 0.        , 0.02352941, 0.72156863,\n",
              "        0.81568627, 0.44705882, 0.        , 0.8       , 0.67843137,\n",
              "        0.63137255, 0.70588235, 0.69019608, 0.6745098 , 0.67843137,\n",
              "        0.67843137, 0.68235294, 0.69019608, 0.63529412, 0.79215686,\n",
              "        0.45098039, 0.        , 0.89803922, 0.78039216, 0.41176471,\n",
              "        0.        , 0.        , 0.        ],\n",
              "       [0.        , 0.        , 0.        , 0.03529412, 0.69803922,\n",
              "        0.8       , 0.45098039, 0.        , 0.4745098 , 0.52941176,\n",
              "        0.44705882, 0.45882353, 0.44705882, 0.44705882, 0.45882353,\n",
              "        0.4627451 , 0.46666667, 0.45882353, 0.44313725, 0.57647059,\n",
              "        0.24705882, 0.        , 0.88235294, 0.76862745, 0.41960784,\n",
              "        0.        , 0.        , 0.        ],\n",
              "       [0.        , 0.        , 0.        , 0.07058824, 0.70588235,\n",
              "        0.80784314, 0.51372549, 0.        , 0.        , 0.        ,\n",
              "        0.        , 0.        , 0.        , 0.        , 0.        ,\n",
              "        0.        , 0.        , 0.        , 0.        , 0.        ,\n",
              "        0.        , 0.        , 0.87843137, 0.77254902, 0.48235294,\n",
              "        0.        , 0.        , 0.        ],\n",
              "       [0.        , 0.        , 0.        , 0.        , 0.55294118,\n",
              "        0.59215686, 0.29803922, 0.        , 0.00392157, 0.00392157,\n",
              "        0.        , 0.        , 0.        , 0.        , 0.        ,\n",
              "        0.        , 0.        , 0.        , 0.        , 0.        ,\n",
              "        0.        , 0.        , 0.52156863, 0.65490196, 0.28627451,\n",
              "        0.        , 0.        , 0.        ]])"
            ]
          },
          "metadata": {},
          "execution_count": 7
        }
      ]
    },
    {
      "cell_type": "markdown",
      "source": [
        "In case of ANN the data fed to the model would be in the size of Records x Length x width\n",
        "But in case of CNN it should be in the size of records x length x width x channel\n",
        "\n",
        "Since the dataset comprises of grayscale images channel = 1"
      ],
      "metadata": {
        "id": "xvneRpyxQx34"
      }
    },
    {
      "cell_type": "code",
      "source": [
        "x_train = np.expand_dims(x_train,-1)\n",
        "x_test = np.expand_dims(x_test,-1)\n",
        "\n",
        "print(x_train.shape,x_test.shape)"
      ],
      "metadata": {
        "colab": {
          "base_uri": "https://localhost:8080/"
        },
        "id": "whXwaYDmQmjY",
        "outputId": "f261a2a5-09be-44f0-dcec-b1e1ad695ef4"
      },
      "execution_count": 8,
      "outputs": [
        {
          "output_type": "stream",
          "name": "stdout",
          "text": [
            "(60000, 28, 28, 1) (10000, 28, 28, 1)\n"
          ]
        }
      ]
    },
    {
      "cell_type": "code",
      "source": [
        "# number of classes\n",
        "\n",
        "K = len(set(y_train))\n",
        "print(\"number of classes:\",K)"
      ],
      "metadata": {
        "colab": {
          "base_uri": "https://localhost:8080/"
        },
        "id": "MLFjZOn6YhtN",
        "outputId": "ba79db85-5543-4904-a5e1-97d225d58bda"
      },
      "execution_count": 9,
      "outputs": [
        {
          "output_type": "stream",
          "name": "stdout",
          "text": [
            "number of classes: 10\n"
          ]
        }
      ]
    },
    {
      "cell_type": "code",
      "source": [
        "#Model Building\n",
        "\n",
        "i = Input(shape=x_train[0].shape)\n",
        "x = Conv2D(32,(3,3),strides=2,activation='relu')(i)\n",
        "x = Conv2D(64,(3,3),strides=2,activation='relu')(i)\n",
        "x = Conv2D(128,(3,3),strides=2,activation='relu')(i)\n",
        "x = Flatten()(x)\n",
        "x = Dropout(0.2)(x)\n",
        "x = Dense(512,activation='relu')(x)\n",
        "x = Dropout(0.2)(x)\n",
        "x = Dense(K,activation='softmax')(x)\n",
        "\n",
        "model = Model(i,x)"
      ],
      "metadata": {
        "id": "dsTGoiYoUBvG"
      },
      "execution_count": 10,
      "outputs": []
    },
    {
      "cell_type": "code",
      "source": [
        "#Model Compiling\n",
        "\n",
        "model.compile(optimizer=\"adam\",\n",
        "              loss=\"sparse_categorical_crossentropy\",\n",
        "              metrics=['accuracy'])"
      ],
      "metadata": {
        "id": "jti6pchqYxNa"
      },
      "execution_count": 11,
      "outputs": []
    },
    {
      "cell_type": "code",
      "source": [
        "r = model.fit(x_train,y_train,validation_data=(x_test,y_test),epochs=15)"
      ],
      "metadata": {
        "colab": {
          "base_uri": "https://localhost:8080/"
        },
        "id": "3qYCOTq8ZIef",
        "outputId": "d356de70-d97f-4b45-cc6e-3b7222af2e6b"
      },
      "execution_count": 12,
      "outputs": [
        {
          "output_type": "stream",
          "name": "stdout",
          "text": [
            "Epoch 1/15\n",
            "1875/1875 [==============================] - 269s 143ms/step - loss: 0.3898 - accuracy: 0.8587 - val_loss: 0.3193 - val_accuracy: 0.8812\n",
            "Epoch 2/15\n",
            "1875/1875 [==============================] - 256s 136ms/step - loss: 0.2646 - accuracy: 0.9013 - val_loss: 0.2991 - val_accuracy: 0.8932\n",
            "Epoch 3/15\n",
            "1875/1875 [==============================] - 251s 134ms/step - loss: 0.2139 - accuracy: 0.9194 - val_loss: 0.2729 - val_accuracy: 0.9017\n",
            "Epoch 4/15\n",
            "1875/1875 [==============================] - 248s 133ms/step - loss: 0.1779 - accuracy: 0.9335 - val_loss: 0.2774 - val_accuracy: 0.9039\n",
            "Epoch 5/15\n",
            "1875/1875 [==============================] - 251s 134ms/step - loss: 0.1435 - accuracy: 0.9454 - val_loss: 0.2946 - val_accuracy: 0.9093\n",
            "Epoch 6/15\n",
            "1875/1875 [==============================] - 248s 132ms/step - loss: 0.1201 - accuracy: 0.9547 - val_loss: 0.3010 - val_accuracy: 0.9081\n",
            "Epoch 7/15\n",
            "1875/1875 [==============================] - 248s 132ms/step - loss: 0.1005 - accuracy: 0.9625 - val_loss: 0.3330 - val_accuracy: 0.9086\n",
            "Epoch 8/15\n",
            "1875/1875 [==============================] - 250s 134ms/step - loss: 0.0827 - accuracy: 0.9700 - val_loss: 0.3730 - val_accuracy: 0.9056\n",
            "Epoch 9/15\n",
            "1875/1875 [==============================] - 255s 136ms/step - loss: 0.0719 - accuracy: 0.9736 - val_loss: 0.3681 - val_accuracy: 0.9110\n",
            "Epoch 10/15\n",
            "1875/1875 [==============================] - 254s 135ms/step - loss: 0.0612 - accuracy: 0.9776 - val_loss: 0.4068 - val_accuracy: 0.9052\n",
            "Epoch 11/15\n",
            "1875/1875 [==============================] - 254s 136ms/step - loss: 0.0530 - accuracy: 0.9805 - val_loss: 0.4297 - val_accuracy: 0.9067\n",
            "Epoch 12/15\n",
            "1875/1875 [==============================] - 255s 136ms/step - loss: 0.0464 - accuracy: 0.9830 - val_loss: 0.4673 - val_accuracy: 0.9077\n",
            "Epoch 13/15\n",
            "1875/1875 [==============================] - 254s 135ms/step - loss: 0.0464 - accuracy: 0.9837 - val_loss: 0.4745 - val_accuracy: 0.9050\n",
            "Epoch 14/15\n",
            "1875/1875 [==============================] - 256s 136ms/step - loss: 0.0409 - accuracy: 0.9858 - val_loss: 0.4852 - val_accuracy: 0.9071\n",
            "Epoch 15/15\n",
            "1875/1875 [==============================] - 254s 135ms/step - loss: 0.0388 - accuracy: 0.9864 - val_loss: 0.5373 - val_accuracy: 0.9050\n"
          ]
        }
      ]
    },
    {
      "cell_type": "code",
      "source": [
        "#Plotting loss per iteration\n",
        "\n",
        "plt.plot(r.history['loss'],label='loss')\n",
        "plt.plot(r.history['val_loss'],label='val_loss')\n",
        "plt.legend()\n",
        "plt.show()"
      ],
      "metadata": {
        "colab": {
          "base_uri": "https://localhost:8080/",
          "height": 265
        },
        "id": "Fa5ks6eSZohP",
        "outputId": "c6a020c0-ab43-47b0-ff7c-bca2c5fcce0c"
      },
      "execution_count": 13,
      "outputs": [
        {
          "output_type": "display_data",
          "data": {
            "text/plain": [
              "<Figure size 432x288 with 1 Axes>"
            ],
            "image/png": "[encoded data removed]"
          },
          "metadata": {
            "needs_background": "light"
          }
        }
      ]
    },
    {
      "cell_type": "code",
      "source": [
        "# Plotting accuracy per iteration\n",
        "\n",
        "plt.plot(r.history['accuracy'], label=\"acc\")\n",
        "plt.plot(r.history[\"val_accuracy\"], label=\"val_acc\")\n",
        "plt.legend()\n",
        "plt.show()"
      ],
      "metadata": {
        "colab": {
          "base_uri": "https://localhost:8080/",
          "height": 265
        },
        "id": "iUND9ygHyLoX",
        "outputId": "33a954a5-68b4-43d6-d60f-c2f15d5f92f2"
      },
      "execution_count": 14,
      "outputs": [
        {
          "output_type": "display_data",
          "data": {
            "text/plain": [
              "<Figure size 432x288 with 1 Axes>"
            ],
            "image/png": "[encoded data removed]"
          },
          "metadata": {
            "needs_background": "light"
          }
        }
      ]
    },
    {
      "cell_type": "markdown",
      "source": [
        "**Observation**\n",
        "\n",
        "As per the graph the val_loss is going upwards and the val_accuracy is steady and not at all increasing. This shows us that the model is slightly overfitting."
      ],
      "metadata": {
        "id": "-9EUEVxtzGsi"
      }
    },
    {
      "cell_type": "code",
      "source": [
        "model.evaluate(x_test,y_test)"
      ],
      "metadata": {
        "colab": {
          "base_uri": "https://localhost:8080/"
        },
        "id": "dw0yoE2lCIE5",
        "outputId": "4082f4fc-a15a-4b9f-e946-a0d5c8785ef9"
      },
      "execution_count": 18,
      "outputs": [
        {
          "output_type": "stream",
          "name": "stdout",
          "text": [
            "313/313 [==============================] - 14s 45ms/step - loss: 0.5373 - accuracy: 0.9050\n"
          ]
        },
        {
          "output_type": "execute_result",
          "data": {
            "text/plain": [
              "[0.5373333692550659, 0.9049999713897705]"
            ]
          },
          "metadata": {},
          "execution_count": 18
        }
      ]
    },
    {
      "cell_type": "code",
      "source": [
        "p_test = model.predict(x_test).argmax(axis=1)\n",
        "\n",
        "from sklearn.metrics import confusion_matrix\n",
        "cm = confusion_matrix(y_test,p_test)\n",
        "cm"
      ],
      "metadata": {
        "colab": {
          "base_uri": "https://localhost:8080/"
        },
        "id": "CtW--v8v0GQj",
        "outputId": "494651df-6785-4aca-f378-6abb15b00999"
      },
      "execution_count": 15,
      "outputs": [
        {
          "output_type": "execute_result",
          "data": {
            "text/plain": [
              "array([[839,   2,  17,  17,   4,   2, 117,   0,   2,   0],\n",
              "       [  1, 981,   0,  15,   2,   0,   0,   0,   1,   0],\n",
              "       [ 17,   2, 841,   6,  64,   0,  69,   0,   1,   0],\n",
              "       [ 14,   5,  11, 916,  26,   0,  25,   0,   3,   0],\n",
              "       [  1,   1,  77,  28, 824,   1,  67,   0,   1,   0],\n",
              "       [  0,   0,   0,   0,   0, 989,   0,   9,   0,   2],\n",
              "       [ 97,   2,  49,  23,  52,   0, 765,   0,  12,   0],\n",
              "       [  0,   0,   0,   0,   0,  11,   0, 973,   1,  15],\n",
              "       [  2,   2,   2,   4,   1,   3,  11,   1, 974,   0],\n",
              "       [  0,   0,   0,   0,   0,  12,   2,  37,   1, 948]])"
            ]
          },
          "metadata": {},
          "execution_count": 15
        }
      ]
    },
    {
      "cell_type": "code",
      "source": [
        ""
      ],
      "metadata": {
        "id": "zKx8CD-76NFX"
      },
      "execution_count": null,
      "outputs": []
    },
    {
      "cell_type": "code",
      "source": [
        "# Label mapping\n",
        "\n",
        "labels = '''T-shirt/top\n",
        "Trouser\n",
        "Pullover\n",
        "Dress\n",
        "Coat\n",
        "Sandal\n",
        "Shirt\n",
        "Sneaker\n",
        "Bag\n",
        "Ankle boot'''.split(\"\\n\")"
      ],
      "metadata": {
        "id": "S7Cp0fTJ0x9A"
      },
      "execution_count": 16,
      "outputs": []
    },
    {
      "cell_type": "code",
      "source": [
        "# Lets see some misclassified examples\n",
        "\n",
        "misclassified_idx = np.where(p_test != y_test)[0]\n",
        "i = np.random.choice(misclassified_idx)\n",
        "plt.imshow(x_test[i].reshape(28,28), cmap=\"gray\")\n",
        "plt.title(\"True label: %s Predicted: %s\" % (labels[y_test[i]], labels[p_test[i]]))\n",
        "plt.show()"
      ],
      "metadata": {
        "colab": {
          "base_uri": "https://localhost:8080/",
          "height": 281
        },
        "id": "ZBqCnmIv6L3V",
        "outputId": "96e2e603-99aa-4154-a4f1-9fe7fdc9eece"
      },
      "execution_count": 17,
      "outputs": [
        {
          "output_type": "display_data",
          "data": {
            "text/plain": [
              "<Figure size 432x288 with 1 Axes>"
            ],
            "image/png": "[encoded data removed]"
          },
          "metadata": {
            "needs_background": "light"
          }
        }
      ]
    },
    {
      "cell_type": "code",
      "source": [
        ""
      ],
      "metadata": {
        "id": "-JYISSU46WrF"
      },
      "execution_count": null,
      "outputs": []
    },
    {
      "cell_type": "markdown",
      "source": [
        "**Inference**\n",
        "\n",
        "The overall model accuracy is staying good @ ~90.5%\n",
        "\n",
        "However based on the evaluation using Confusion Matrix we can see that the major 4 misclassified samples are\n",
        "\n",
        "(T-shirt/top, Shirt), (Coat, Pullover), (Pullover, Shirt), (Coat, Shirt)"
      ],
      "metadata": {
        "id": "Yoa_TEgrCZ7g"
      }
    }
  ]
}