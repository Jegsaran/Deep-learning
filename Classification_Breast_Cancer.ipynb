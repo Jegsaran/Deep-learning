{
  "nbformat": 4,
  "nbformat_minor": 0,
  "metadata": {
    "colab": {
      "name": "Classification-Breast Cancer.ipynb",
      "provenance": [],
      "collapsed_sections": [],
      "authorship_tag": "ABX9TyO+iJ0uuFxnOIjlihGS7/Ke",
      "include_colab_link": true
    },
    "kernelspec": {
      "name": "python3",
      "display_name": "Python 3"
    },
    "language_info": {
      "name": "python"
    }
  },
  "cells": [
    {
      "cell_type": "markdown",
      "metadata": {
        "id": "view-in-github",
        "colab_type": "text"
      },
      "source": [
        "<a href=\"https://colab.research.google.com/github/Jegsaran/Deep-learning/blob/main/Classification_Breast_Cancer.ipynb\" target=\"_parent\"><img src=\"https://colab.research.google.com/assets/colab-badge.svg\" alt=\"Open In Colab\"/></a>"
      ]
    },
    {
      "cell_type": "code",
      "execution_count": 1,
      "metadata": {
        "colab": {
          "base_uri": "https://localhost:8080/"
        },
        "id": "NrwSy47H34Px",
        "outputId": "72419d9e-0b45-40aa-9bfe-ea6d4e0ab3d5"
      },
      "outputs": [
        {
          "output_type": "stream",
          "name": "stdout",
          "text": [
            "2.8.0\n"
          ]
        }
      ],
      "source": [
        "import tensorflow as tf\n",
        "print(tf.__version__)"
      ]
    },
    {
      "cell_type": "code",
      "source": [
        "#Loading Data\n",
        "from sklearn.datasets import load_breast_cancer"
      ],
      "metadata": {
        "id": "aRaLcOch5S3v"
      },
      "execution_count": 2,
      "outputs": []
    },
    {
      "cell_type": "code",
      "source": [
        "df = load_breast_cancer()\n",
        "type(df)\n",
        "print(df)"
      ],
      "metadata": {
        "colab": {
          "base_uri": "https://localhost:8080/"
        },
        "id": "Fs6liyzW5SvL",
        "outputId": "c1957d60-c324-4895-c11e-c4165ba41299"
      },
      "execution_count": 3,
      "outputs": [
        {
          "output_type": "stream",
          "name": "stdout",
          "text": [
            "{'data': array([[1.799e+01, 1.038e+01, 1.228e+02, ..., 2.654e-01, 4.601e-01,\n",
            "        1.189e-01],\n",
            "       [2.057e+01, 1.777e+01, 1.329e+02, ..., 1.860e-01, 2.750e-01,\n",
            "        8.902e-02],\n",
            "       [1.969e+01, 2.125e+01, 1.300e+02, ..., 2.430e-01, 3.613e-01,\n",
            "        8.758e-02],\n",
            "       ...,\n",
            "       [1.660e+01, 2.808e+01, 1.083e+02, ..., 1.418e-01, 2.218e-01,\n",
            "        7.820e-02],\n",
            "       [2.060e+01, 2.933e+01, 1.401e+02, ..., 2.650e-01, 4.087e-01,\n",
            "        1.240e-01],\n",
            "       [7.760e+00, 2.454e+01, 4.792e+01, ..., 0.000e+00, 2.871e-01,\n",
            "        7.039e-02]]), 'target': array([0, 0, 0, 0, 0, 0, 0, 0, 0, 0, 0, 0, 0, 0, 0, 0, 0, 0, 0, 1, 1, 1,\n",
            "       0, 0, 0, 0, 0, 0, 0, 0, 0, 0, 0, 0, 0, 0, 0, 1, 0, 0, 0, 0, 0, 0,\n",
            "       0, 0, 1, 0, 1, 1, 1, 1, 1, 0, 0, 1, 0, 0, 1, 1, 1, 1, 0, 1, 0, 0,\n",
            "       1, 1, 1, 1, 0, 1, 0, 0, 1, 0, 1, 0, 0, 1, 1, 1, 0, 0, 1, 0, 0, 0,\n",
            "       1, 1, 1, 0, 1, 1, 0, 0, 1, 1, 1, 0, 0, 1, 1, 1, 1, 0, 1, 1, 0, 1,\n",
            "       1, 1, 1, 1, 1, 1, 1, 0, 0, 0, 1, 0, 0, 1, 1, 1, 0, 0, 1, 0, 1, 0,\n",
            "       0, 1, 0, 0, 1, 1, 0, 1, 1, 0, 1, 1, 1, 1, 0, 1, 1, 1, 1, 1, 1, 1,\n",
            "       1, 1, 0, 1, 1, 1, 1, 0, 0, 1, 0, 1, 1, 0, 0, 1, 1, 0, 0, 1, 1, 1,\n",
            "       1, 0, 1, 1, 0, 0, 0, 1, 0, 1, 0, 1, 1, 1, 0, 1, 1, 0, 0, 1, 0, 0,\n",
            "       0, 0, 1, 0, 0, 0, 1, 0, 1, 0, 1, 1, 0, 1, 0, 0, 0, 0, 1, 1, 0, 0,\n",
            "       1, 1, 1, 0, 1, 1, 1, 1, 1, 0, 0, 1, 1, 0, 1, 1, 0, 0, 1, 0, 1, 1,\n",
            "       1, 1, 0, 1, 1, 1, 1, 1, 0, 1, 0, 0, 0, 0, 0, 0, 0, 0, 0, 0, 0, 0,\n",
            "       0, 0, 1, 1, 1, 1, 1, 1, 0, 1, 0, 1, 1, 0, 1, 1, 0, 1, 0, 0, 1, 1,\n",
            "       1, 1, 1, 1, 1, 1, 1, 1, 1, 1, 1, 0, 1, 1, 0, 1, 0, 1, 1, 1, 1, 1,\n",
            "       1, 1, 1, 1, 1, 1, 1, 1, 1, 0, 1, 1, 1, 0, 1, 0, 1, 1, 1, 1, 0, 0,\n",
            "       0, 1, 1, 1, 1, 0, 1, 0, 1, 0, 1, 1, 1, 0, 1, 1, 1, 1, 1, 1, 1, 0,\n",
            "       0, 0, 1, 1, 1, 1, 1, 1, 1, 1, 1, 1, 1, 0, 0, 1, 0, 0, 0, 1, 0, 0,\n",
            "       1, 1, 1, 1, 1, 0, 1, 1, 1, 1, 1, 0, 1, 1, 1, 0, 1, 1, 0, 0, 1, 1,\n",
            "       1, 1, 1, 1, 0, 1, 1, 1, 1, 1, 1, 1, 0, 1, 1, 1, 1, 1, 0, 1, 1, 0,\n",
            "       1, 1, 1, 1, 1, 1, 1, 1, 1, 1, 1, 1, 0, 1, 0, 0, 1, 0, 1, 1, 1, 1,\n",
            "       1, 0, 1, 1, 0, 1, 0, 1, 1, 0, 1, 0, 1, 1, 1, 1, 1, 1, 1, 1, 0, 0,\n",
            "       1, 1, 1, 1, 1, 1, 0, 1, 1, 1, 1, 1, 1, 1, 1, 1, 1, 0, 1, 1, 1, 1,\n",
            "       1, 1, 1, 0, 1, 0, 1, 1, 0, 1, 1, 1, 1, 1, 0, 0, 1, 0, 1, 0, 1, 1,\n",
            "       1, 1, 1, 0, 1, 1, 0, 1, 0, 1, 0, 0, 1, 1, 1, 0, 1, 1, 1, 1, 1, 1,\n",
            "       1, 1, 1, 1, 1, 0, 1, 0, 0, 1, 1, 1, 1, 1, 1, 1, 1, 1, 1, 1, 1, 1,\n",
            "       1, 1, 1, 1, 1, 1, 1, 1, 1, 1, 1, 1, 0, 0, 0, 0, 0, 0, 1]), 'frame': None, 'target_names': array(['malignant', 'benign'], dtype='<U9'), 'DESCR': '.. _breast_cancer_dataset:\\n\\nBreast cancer wisconsin (diagnostic) dataset\\n--------------------------------------------\\n\\n**Data Set Characteristics:**\\n\\n    :Number of Instances: 569\\n\\n    :Number of Attributes: 30 numeric, predictive attributes and the class\\n\\n    :Attribute Information:\\n        - radius (mean of distances from center to points on the perimeter)\\n        - texture (standard deviation of gray-scale values)\\n        - perimeter\\n        - area\\n        - smoothness (local variation in radius lengths)\\n        - compactness (perimeter^2 / area - 1.0)\\n        - concavity (severity of concave portions of the contour)\\n        - concave points (number of concave portions of the contour)\\n        - symmetry\\n        - fractal dimension (\"coastline approximation\" - 1)\\n\\n        The mean, standard error, and \"worst\" or largest (mean of the three\\n        worst/largest values) of these features were computed for each image,\\n        resulting in 30 features.  For instance, field 0 is Mean Radius, field\\n        10 is Radius SE, field 20 is Worst Radius.\\n\\n        - class:\\n                - WDBC-Malignant\\n                - WDBC-Benign\\n\\n    :Summary Statistics:\\n\\n    ===================================== ====== ======\\n                                           Min    Max\\n    ===================================== ====== ======\\n    radius (mean):                        6.981  28.11\\n    texture (mean):                       9.71   39.28\\n    perimeter (mean):                     43.79  188.5\\n    area (mean):                          143.5  2501.0\\n    smoothness (mean):                    0.053  0.163\\n    compactness (mean):                   0.019  0.345\\n    concavity (mean):                     0.0    0.427\\n    concave points (mean):                0.0    0.201\\n    symmetry (mean):                      0.106  0.304\\n    fractal dimension (mean):             0.05   0.097\\n    radius (standard error):              0.112  2.873\\n    texture (standard error):             0.36   4.885\\n    perimeter (standard error):           0.757  21.98\\n    area (standard error):                6.802  542.2\\n    smoothness (standard error):          0.002  0.031\\n    compactness (standard error):         0.002  0.135\\n    concavity (standard error):           0.0    0.396\\n    concave points (standard error):      0.0    0.053\\n    symmetry (standard error):            0.008  0.079\\n    fractal dimension (standard error):   0.001  0.03\\n    radius (worst):                       7.93   36.04\\n    texture (worst):                      12.02  49.54\\n    perimeter (worst):                    50.41  251.2\\n    area (worst):                         185.2  4254.0\\n    smoothness (worst):                   0.071  0.223\\n    compactness (worst):                  0.027  1.058\\n    concavity (worst):                    0.0    1.252\\n    concave points (worst):               0.0    0.291\\n    symmetry (worst):                     0.156  0.664\\n    fractal dimension (worst):            0.055  0.208\\n    ===================================== ====== ======\\n\\n    :Missing Attribute Values: None\\n\\n    :Class Distribution: 212 - Malignant, 357 - Benign\\n\\n    :Creator:  Dr. William H. Wolberg, W. Nick Street, Olvi L. Mangasarian\\n\\n    :Donor: Nick Street\\n\\n    :Date: November, 1995\\n\\nThis is a copy of UCI ML Breast Cancer Wisconsin (Diagnostic) datasets.\\nhttps://goo.gl/U2Uwz2\\n\\nFeatures are computed from a digitized image of a fine needle\\naspirate (FNA) of a breast mass.  They describe\\ncharacteristics of the cell nuclei present in the image.\\n\\nSeparating plane described above was obtained using\\nMultisurface Method-Tree (MSM-T) [K. P. Bennett, \"Decision Tree\\nConstruction Via Linear Programming.\" Proceedings of the 4th\\nMidwest Artificial Intelligence and Cognitive Science Society,\\npp. 97-101, 1992], a classification method which uses linear\\nprogramming to construct a decision tree.  Relevant features\\nwere selected using an exhaustive search in the space of 1-4\\nfeatures and 1-3 separating planes.\\n\\nThe actual linear program used to obtain the separating plane\\nin the 3-dimensional space is that described in:\\n[K. P. Bennett and O. L. Mangasarian: \"Robust Linear\\nProgramming Discrimination of Two Linearly Inseparable Sets\",\\nOptimization Methods and Software 1, 1992, 23-34].\\n\\nThis database is also available through the UW CS ftp server:\\n\\nftp ftp.cs.wisc.edu\\ncd math-prog/cpo-dataset/machine-learn/WDBC/\\n\\n.. topic:: References\\n\\n   - W.N. Street, W.H. Wolberg and O.L. Mangasarian. Nuclear feature extraction \\n     for breast tumor diagnosis. IS&T/SPIE 1993 International Symposium on \\n     Electronic Imaging: Science and Technology, volume 1905, pages 861-870,\\n     San Jose, CA, 1993.\\n   - O.L. Mangasarian, W.N. Street and W.H. Wolberg. Breast cancer diagnosis and \\n     prognosis via linear programming. Operations Research, 43(4), pages 570-577, \\n     July-August 1995.\\n   - W.H. Wolberg, W.N. Street, and O.L. Mangasarian. Machine learning techniques\\n     to diagnose breast cancer from fine-needle aspirates. Cancer Letters 77 (1994) \\n     163-171.', 'feature_names': array(['mean radius', 'mean texture', 'mean perimeter', 'mean area',\n",
            "       'mean smoothness', 'mean compactness', 'mean concavity',\n",
            "       'mean concave points', 'mean symmetry', 'mean fractal dimension',\n",
            "       'radius error', 'texture error', 'perimeter error', 'area error',\n",
            "       'smoothness error', 'compactness error', 'concavity error',\n",
            "       'concave points error', 'symmetry error',\n",
            "       'fractal dimension error', 'worst radius', 'worst texture',\n",
            "       'worst perimeter', 'worst area', 'worst smoothness',\n",
            "       'worst compactness', 'worst concavity', 'worst concave points',\n",
            "       'worst symmetry', 'worst fractal dimension'], dtype='<U23'), 'filename': 'breast_cancer.csv', 'data_module': 'sklearn.datasets.data'}\n"
          ]
        }
      ]
    },
    {
      "cell_type": "code",
      "source": [
        "df.keys()"
      ],
      "metadata": {
        "colab": {
          "base_uri": "https://localhost:8080/"
        },
        "id": "JiOEKJC05Snm",
        "outputId": "3d81667b-cc7f-43a0-ab29-14602f9ca29e"
      },
      "execution_count": 4,
      "outputs": [
        {
          "output_type": "execute_result",
          "data": {
            "text/plain": [
              "dict_keys(['data', 'target', 'frame', 'target_names', 'DESCR', 'feature_names', 'filename', 'data_module'])"
            ]
          },
          "metadata": {},
          "execution_count": 4
        }
      ]
    },
    {
      "cell_type": "code",
      "source": [
        "df.data.shape"
      ],
      "metadata": {
        "id": "OPKgqiSw5SaK",
        "colab": {
          "base_uri": "https://localhost:8080/"
        },
        "outputId": "e9ea921e-292d-48dc-ee6b-93158c5d17c3"
      },
      "execution_count": 6,
      "outputs": [
        {
          "output_type": "execute_result",
          "data": {
            "text/plain": [
              "(569, 30)"
            ]
          },
          "metadata": {},
          "execution_count": 6
        }
      ]
    },
    {
      "cell_type": "code",
      "source": [
        "df.target_names"
      ],
      "metadata": {
        "colab": {
          "base_uri": "https://localhost:8080/"
        },
        "id": "KJJvvKrROOXB",
        "outputId": "200a3cbe-654f-47f5-ccc7-a2d306223c26"
      },
      "execution_count": 7,
      "outputs": [
        {
          "output_type": "execute_result",
          "data": {
            "text/plain": [
              "array(['malignant', 'benign'], dtype='<U9')"
            ]
          },
          "metadata": {},
          "execution_count": 7
        }
      ]
    },
    {
      "cell_type": "code",
      "source": [
        "from sklearn.model_selection import train_test_split\n",
        "X_train,X_test,y_train,y_test = train_test_split(df.data,df.target,test_size=.33)\n"
      ],
      "metadata": {
        "id": "eoJgE2PJOOTr"
      },
      "execution_count": 18,
      "outputs": []
    },
    {
      "cell_type": "code",
      "source": [
        "N,D = X_train.shape\n",
        "N,D"
      ],
      "metadata": {
        "colab": {
          "base_uri": "https://localhost:8080/"
        },
        "id": "TAGVLEYqOOQz",
        "outputId": "8fb8db2c-06ca-47c6-beef-5ee1ddfa1450"
      },
      "execution_count": 19,
      "outputs": [
        {
          "output_type": "execute_result",
          "data": {
            "text/plain": [
              "(381, 30)"
            ]
          },
          "metadata": {},
          "execution_count": 19
        }
      ]
    },
    {
      "cell_type": "code",
      "source": [
        "from sklearn.preprocessing import StandardScaler\n",
        "scaler = StandardScaler()\n",
        "X_train = scaler.fit_transform(X_train)\n",
        "X_test = scaler.transform(X_test)"
      ],
      "metadata": {
        "id": "Y6VTVPzZOON1"
      },
      "execution_count": 20,
      "outputs": []
    },
    {
      "cell_type": "code",
      "source": [
        "model = tf.keras.models.Sequential()\n",
        "model.add(tf.keras.layers.Dense(1,input_shape = (D,),activation = 'sigmoid'))\n",
        "model.compile(optimizer='adam',\n",
        "              loss='binary_crossentropy',\n",
        "              metrics=['accuracy'])"
      ],
      "metadata": {
        "id": "IkyltMlcOOLL"
      },
      "execution_count": 21,
      "outputs": []
    },
    {
      "cell_type": "code",
      "source": [
        "r=model.fit(X_train,y_train,validation_data=(X_test,y_test),epochs=100)"
      ],
      "metadata": {
        "colab": {
          "base_uri": "https://localhost:8080/"
        },
        "id": "xedrWPx1OOIS",
        "outputId": "ebed8c99-93b2-40eb-9b0a-3953994673e2"
      },
      "execution_count": 22,
      "outputs": [
        {
          "output_type": "stream",
          "name": "stdout",
          "text": [
            "Epoch 1/100\n",
            "12/12 [==============================] - 1s 19ms/step - loss: 1.2544 - accuracy: 0.2073 - val_loss: 1.1890 - val_accuracy: 0.2181\n",
            "Epoch 2/100\n",
            "12/12 [==============================] - 0s 7ms/step - loss: 1.1426 - accuracy: 0.2283 - val_loss: 1.0772 - val_accuracy: 0.2766\n",
            "Epoch 3/100\n",
            "12/12 [==============================] - 0s 5ms/step - loss: 1.0387 - accuracy: 0.2861 - val_loss: 0.9750 - val_accuracy: 0.3617\n",
            "Epoch 4/100\n",
            "12/12 [==============================] - 0s 4ms/step - loss: 0.9422 - accuracy: 0.3386 - val_loss: 0.8836 - val_accuracy: 0.4202\n",
            "Epoch 5/100\n",
            "12/12 [==============================] - 0s 19ms/step - loss: 0.8537 - accuracy: 0.4252 - val_loss: 0.8048 - val_accuracy: 0.4894\n",
            "Epoch 6/100\n",
            "12/12 [==============================] - 0s 5ms/step - loss: 0.7804 - accuracy: 0.4908 - val_loss: 0.7328 - val_accuracy: 0.5426\n",
            "Epoch 7/100\n",
            "12/12 [==============================] - 0s 4ms/step - loss: 0.7113 - accuracy: 0.5669 - val_loss: 0.6729 - val_accuracy: 0.6011\n",
            "Epoch 8/100\n",
            "12/12 [==============================] - 0s 5ms/step - loss: 0.6544 - accuracy: 0.6220 - val_loss: 0.6202 - val_accuracy: 0.6649\n",
            "Epoch 9/100\n",
            "12/12 [==============================] - 0s 6ms/step - loss: 0.6041 - accuracy: 0.7034 - val_loss: 0.5746 - val_accuracy: 0.6915\n",
            "Epoch 10/100\n",
            "12/12 [==============================] - 0s 4ms/step - loss: 0.5585 - accuracy: 0.7533 - val_loss: 0.5368 - val_accuracy: 0.7287\n",
            "Epoch 11/100\n",
            "12/12 [==============================] - 0s 4ms/step - loss: 0.5211 - accuracy: 0.7795 - val_loss: 0.5036 - val_accuracy: 0.7553\n",
            "Epoch 12/100\n",
            "12/12 [==============================] - 0s 5ms/step - loss: 0.4892 - accuracy: 0.8058 - val_loss: 0.4740 - val_accuracy: 0.7660\n",
            "Epoch 13/100\n",
            "12/12 [==============================] - 0s 6ms/step - loss: 0.4597 - accuracy: 0.8268 - val_loss: 0.4488 - val_accuracy: 0.7979\n",
            "Epoch 14/100\n",
            "12/12 [==============================] - 0s 4ms/step - loss: 0.4346 - accuracy: 0.8451 - val_loss: 0.4266 - val_accuracy: 0.8138\n",
            "Epoch 15/100\n",
            "12/12 [==============================] - 0s 6ms/step - loss: 0.4126 - accuracy: 0.8556 - val_loss: 0.4071 - val_accuracy: 0.8138\n",
            "Epoch 16/100\n",
            "12/12 [==============================] - 0s 4ms/step - loss: 0.3940 - accuracy: 0.8688 - val_loss: 0.3890 - val_accuracy: 0.8298\n",
            "Epoch 17/100\n",
            "12/12 [==============================] - 0s 5ms/step - loss: 0.3764 - accuracy: 0.8793 - val_loss: 0.3733 - val_accuracy: 0.8457\n",
            "Epoch 18/100\n",
            "12/12 [==============================] - 0s 4ms/step - loss: 0.3612 - accuracy: 0.8898 - val_loss: 0.3591 - val_accuracy: 0.8564\n",
            "Epoch 19/100\n",
            "12/12 [==============================] - 0s 5ms/step - loss: 0.3473 - accuracy: 0.8924 - val_loss: 0.3461 - val_accuracy: 0.8670\n",
            "Epoch 20/100\n",
            "12/12 [==============================] - 0s 5ms/step - loss: 0.3351 - accuracy: 0.9055 - val_loss: 0.3340 - val_accuracy: 0.8723\n",
            "Epoch 21/100\n",
            "12/12 [==============================] - 0s 5ms/step - loss: 0.3235 - accuracy: 0.9134 - val_loss: 0.3231 - val_accuracy: 0.8777\n",
            "Epoch 22/100\n",
            "12/12 [==============================] - 0s 5ms/step - loss: 0.3132 - accuracy: 0.9186 - val_loss: 0.3130 - val_accuracy: 0.8777\n",
            "Epoch 23/100\n",
            "12/12 [==============================] - 0s 4ms/step - loss: 0.3035 - accuracy: 0.9186 - val_loss: 0.3038 - val_accuracy: 0.8830\n",
            "Epoch 24/100\n",
            "12/12 [==============================] - 0s 6ms/step - loss: 0.2947 - accuracy: 0.9213 - val_loss: 0.2950 - val_accuracy: 0.8883\n",
            "Epoch 25/100\n",
            "12/12 [==============================] - 0s 6ms/step - loss: 0.2864 - accuracy: 0.9239 - val_loss: 0.2870 - val_accuracy: 0.8936\n",
            "Epoch 26/100\n",
            "12/12 [==============================] - 0s 5ms/step - loss: 0.2788 - accuracy: 0.9265 - val_loss: 0.2796 - val_accuracy: 0.8989\n",
            "Epoch 27/100\n",
            "12/12 [==============================] - 0s 5ms/step - loss: 0.2719 - accuracy: 0.9265 - val_loss: 0.2722 - val_accuracy: 0.9043\n",
            "Epoch 28/100\n",
            "12/12 [==============================] - 0s 6ms/step - loss: 0.2652 - accuracy: 0.9265 - val_loss: 0.2654 - val_accuracy: 0.9096\n",
            "Epoch 29/100\n",
            "12/12 [==============================] - 0s 4ms/step - loss: 0.2588 - accuracy: 0.9265 - val_loss: 0.2591 - val_accuracy: 0.9096\n",
            "Epoch 30/100\n",
            "12/12 [==============================] - 0s 5ms/step - loss: 0.2528 - accuracy: 0.9265 - val_loss: 0.2535 - val_accuracy: 0.9096\n",
            "Epoch 31/100\n",
            "12/12 [==============================] - 0s 6ms/step - loss: 0.2473 - accuracy: 0.9291 - val_loss: 0.2478 - val_accuracy: 0.9096\n",
            "Epoch 32/100\n",
            "12/12 [==============================] - 0s 6ms/step - loss: 0.2422 - accuracy: 0.9265 - val_loss: 0.2423 - val_accuracy: 0.9202\n",
            "Epoch 33/100\n",
            "12/12 [==============================] - 0s 5ms/step - loss: 0.2372 - accuracy: 0.9318 - val_loss: 0.2372 - val_accuracy: 0.9202\n",
            "Epoch 34/100\n",
            "12/12 [==============================] - 0s 5ms/step - loss: 0.2325 - accuracy: 0.9370 - val_loss: 0.2324 - val_accuracy: 0.9202\n",
            "Epoch 35/100\n",
            "12/12 [==============================] - 0s 6ms/step - loss: 0.2280 - accuracy: 0.9370 - val_loss: 0.2279 - val_accuracy: 0.9255\n",
            "Epoch 36/100\n",
            "12/12 [==============================] - 0s 6ms/step - loss: 0.2238 - accuracy: 0.9396 - val_loss: 0.2235 - val_accuracy: 0.9255\n",
            "Epoch 37/100\n",
            "12/12 [==============================] - 0s 5ms/step - loss: 0.2195 - accuracy: 0.9396 - val_loss: 0.2195 - val_accuracy: 0.9309\n",
            "Epoch 38/100\n",
            "12/12 [==============================] - 0s 6ms/step - loss: 0.2159 - accuracy: 0.9396 - val_loss: 0.2154 - val_accuracy: 0.9309\n",
            "Epoch 39/100\n",
            "12/12 [==============================] - 0s 6ms/step - loss: 0.2121 - accuracy: 0.9396 - val_loss: 0.2116 - val_accuracy: 0.9309\n",
            "Epoch 40/100\n",
            "12/12 [==============================] - 0s 5ms/step - loss: 0.2085 - accuracy: 0.9423 - val_loss: 0.2079 - val_accuracy: 0.9309\n",
            "Epoch 41/100\n",
            "12/12 [==============================] - 0s 5ms/step - loss: 0.2052 - accuracy: 0.9423 - val_loss: 0.2043 - val_accuracy: 0.9309\n",
            "Epoch 42/100\n",
            "12/12 [==============================] - 0s 6ms/step - loss: 0.2019 - accuracy: 0.9423 - val_loss: 0.2010 - val_accuracy: 0.9362\n",
            "Epoch 43/100\n",
            "12/12 [==============================] - 0s 6ms/step - loss: 0.1988 - accuracy: 0.9396 - val_loss: 0.1979 - val_accuracy: 0.9362\n",
            "Epoch 44/100\n",
            "12/12 [==============================] - 0s 4ms/step - loss: 0.1958 - accuracy: 0.9396 - val_loss: 0.1948 - val_accuracy: 0.9362\n",
            "Epoch 45/100\n",
            "12/12 [==============================] - 0s 5ms/step - loss: 0.1930 - accuracy: 0.9396 - val_loss: 0.1918 - val_accuracy: 0.9362\n",
            "Epoch 46/100\n",
            "12/12 [==============================] - 0s 6ms/step - loss: 0.1902 - accuracy: 0.9396 - val_loss: 0.1889 - val_accuracy: 0.9362\n",
            "Epoch 47/100\n",
            "12/12 [==============================] - 0s 4ms/step - loss: 0.1875 - accuracy: 0.9396 - val_loss: 0.1862 - val_accuracy: 0.9362\n",
            "Epoch 48/100\n",
            "12/12 [==============================] - 0s 4ms/step - loss: 0.1849 - accuracy: 0.9396 - val_loss: 0.1836 - val_accuracy: 0.9362\n",
            "Epoch 49/100\n",
            "12/12 [==============================] - 0s 5ms/step - loss: 0.1825 - accuracy: 0.9423 - val_loss: 0.1809 - val_accuracy: 0.9362\n",
            "Epoch 50/100\n",
            "12/12 [==============================] - 0s 5ms/step - loss: 0.1800 - accuracy: 0.9449 - val_loss: 0.1785 - val_accuracy: 0.9362\n",
            "Epoch 51/100\n",
            "12/12 [==============================] - 0s 6ms/step - loss: 0.1777 - accuracy: 0.9449 - val_loss: 0.1761 - val_accuracy: 0.9415\n",
            "Epoch 52/100\n",
            "12/12 [==============================] - 0s 4ms/step - loss: 0.1755 - accuracy: 0.9423 - val_loss: 0.1739 - val_accuracy: 0.9415\n",
            "Epoch 53/100\n",
            "12/12 [==============================] - 0s 4ms/step - loss: 0.1734 - accuracy: 0.9449 - val_loss: 0.1717 - val_accuracy: 0.9415\n",
            "Epoch 54/100\n",
            "12/12 [==============================] - 0s 5ms/step - loss: 0.1713 - accuracy: 0.9449 - val_loss: 0.1695 - val_accuracy: 0.9415\n",
            "Epoch 55/100\n",
            "12/12 [==============================] - 0s 6ms/step - loss: 0.1692 - accuracy: 0.9449 - val_loss: 0.1675 - val_accuracy: 0.9415\n",
            "Epoch 56/100\n",
            "12/12 [==============================] - 0s 4ms/step - loss: 0.1673 - accuracy: 0.9475 - val_loss: 0.1654 - val_accuracy: 0.9415\n",
            "Epoch 57/100\n",
            "12/12 [==============================] - 0s 4ms/step - loss: 0.1654 - accuracy: 0.9501 - val_loss: 0.1635 - val_accuracy: 0.9415\n",
            "Epoch 58/100\n",
            "12/12 [==============================] - 0s 5ms/step - loss: 0.1635 - accuracy: 0.9501 - val_loss: 0.1617 - val_accuracy: 0.9415\n",
            "Epoch 59/100\n",
            "12/12 [==============================] - 0s 6ms/step - loss: 0.1618 - accuracy: 0.9501 - val_loss: 0.1598 - val_accuracy: 0.9415\n",
            "Epoch 60/100\n",
            "12/12 [==============================] - 0s 5ms/step - loss: 0.1600 - accuracy: 0.9501 - val_loss: 0.1581 - val_accuracy: 0.9415\n",
            "Epoch 61/100\n",
            "12/12 [==============================] - 0s 5ms/step - loss: 0.1583 - accuracy: 0.9501 - val_loss: 0.1564 - val_accuracy: 0.9468\n",
            "Epoch 62/100\n",
            "12/12 [==============================] - 0s 4ms/step - loss: 0.1567 - accuracy: 0.9501 - val_loss: 0.1548 - val_accuracy: 0.9468\n",
            "Epoch 63/100\n",
            "12/12 [==============================] - 0s 5ms/step - loss: 0.1551 - accuracy: 0.9528 - val_loss: 0.1531 - val_accuracy: 0.9468\n",
            "Epoch 64/100\n",
            "12/12 [==============================] - 0s 6ms/step - loss: 0.1536 - accuracy: 0.9528 - val_loss: 0.1515 - val_accuracy: 0.9468\n",
            "Epoch 65/100\n",
            "12/12 [==============================] - 0s 5ms/step - loss: 0.1520 - accuracy: 0.9580 - val_loss: 0.1502 - val_accuracy: 0.9468\n",
            "Epoch 66/100\n",
            "12/12 [==============================] - 0s 4ms/step - loss: 0.1506 - accuracy: 0.9580 - val_loss: 0.1487 - val_accuracy: 0.9468\n",
            "Epoch 67/100\n",
            "12/12 [==============================] - 0s 5ms/step - loss: 0.1491 - accuracy: 0.9580 - val_loss: 0.1473 - val_accuracy: 0.9468\n",
            "Epoch 68/100\n",
            "12/12 [==============================] - 0s 5ms/step - loss: 0.1478 - accuracy: 0.9580 - val_loss: 0.1459 - val_accuracy: 0.9468\n",
            "Epoch 69/100\n",
            "12/12 [==============================] - 0s 6ms/step - loss: 0.1464 - accuracy: 0.9580 - val_loss: 0.1445 - val_accuracy: 0.9468\n",
            "Epoch 70/100\n",
            "12/12 [==============================] - 0s 5ms/step - loss: 0.1451 - accuracy: 0.9580 - val_loss: 0.1432 - val_accuracy: 0.9468\n",
            "Epoch 71/100\n",
            "12/12 [==============================] - 0s 4ms/step - loss: 0.1438 - accuracy: 0.9580 - val_loss: 0.1420 - val_accuracy: 0.9468\n",
            "Epoch 72/100\n",
            "12/12 [==============================] - 0s 5ms/step - loss: 0.1425 - accuracy: 0.9580 - val_loss: 0.1407 - val_accuracy: 0.9468\n",
            "Epoch 73/100\n",
            "12/12 [==============================] - 0s 6ms/step - loss: 0.1413 - accuracy: 0.9580 - val_loss: 0.1395 - val_accuracy: 0.9468\n",
            "Epoch 74/100\n",
            "12/12 [==============================] - 0s 4ms/step - loss: 0.1401 - accuracy: 0.9580 - val_loss: 0.1384 - val_accuracy: 0.9468\n",
            "Epoch 75/100\n",
            "12/12 [==============================] - 0s 5ms/step - loss: 0.1390 - accuracy: 0.9580 - val_loss: 0.1372 - val_accuracy: 0.9521\n",
            "Epoch 76/100\n",
            "12/12 [==============================] - 0s 5ms/step - loss: 0.1378 - accuracy: 0.9580 - val_loss: 0.1361 - val_accuracy: 0.9521\n",
            "Epoch 77/100\n",
            "12/12 [==============================] - 0s 4ms/step - loss: 0.1367 - accuracy: 0.9606 - val_loss: 0.1350 - val_accuracy: 0.9521\n",
            "Epoch 78/100\n",
            "12/12 [==============================] - 0s 5ms/step - loss: 0.1356 - accuracy: 0.9606 - val_loss: 0.1340 - val_accuracy: 0.9521\n",
            "Epoch 79/100\n",
            "12/12 [==============================] - 0s 6ms/step - loss: 0.1346 - accuracy: 0.9606 - val_loss: 0.1330 - val_accuracy: 0.9521\n",
            "Epoch 80/100\n",
            "12/12 [==============================] - 0s 6ms/step - loss: 0.1336 - accuracy: 0.9606 - val_loss: 0.1320 - val_accuracy: 0.9521\n",
            "Epoch 81/100\n",
            "12/12 [==============================] - 0s 5ms/step - loss: 0.1325 - accuracy: 0.9606 - val_loss: 0.1310 - val_accuracy: 0.9521\n",
            "Epoch 82/100\n",
            "12/12 [==============================] - 0s 5ms/step - loss: 0.1315 - accuracy: 0.9606 - val_loss: 0.1301 - val_accuracy: 0.9574\n",
            "Epoch 83/100\n",
            "12/12 [==============================] - 0s 4ms/step - loss: 0.1306 - accuracy: 0.9606 - val_loss: 0.1292 - val_accuracy: 0.9574\n",
            "Epoch 84/100\n",
            "12/12 [==============================] - 0s 4ms/step - loss: 0.1296 - accuracy: 0.9606 - val_loss: 0.1282 - val_accuracy: 0.9574\n",
            "Epoch 85/100\n",
            "12/12 [==============================] - 0s 6ms/step - loss: 0.1287 - accuracy: 0.9606 - val_loss: 0.1273 - val_accuracy: 0.9574\n",
            "Epoch 86/100\n",
            "12/12 [==============================] - 0s 4ms/step - loss: 0.1278 - accuracy: 0.9606 - val_loss: 0.1264 - val_accuracy: 0.9574\n",
            "Epoch 87/100\n",
            "12/12 [==============================] - 0s 5ms/step - loss: 0.1269 - accuracy: 0.9606 - val_loss: 0.1256 - val_accuracy: 0.9628\n",
            "Epoch 88/100\n",
            "12/12 [==============================] - 0s 6ms/step - loss: 0.1260 - accuracy: 0.9606 - val_loss: 0.1248 - val_accuracy: 0.9628\n",
            "Epoch 89/100\n",
            "12/12 [==============================] - 0s 5ms/step - loss: 0.1252 - accuracy: 0.9606 - val_loss: 0.1240 - val_accuracy: 0.9628\n",
            "Epoch 90/100\n",
            "12/12 [==============================] - 0s 4ms/step - loss: 0.1244 - accuracy: 0.9606 - val_loss: 0.1232 - val_accuracy: 0.9628\n",
            "Epoch 91/100\n",
            "12/12 [==============================] - 0s 6ms/step - loss: 0.1235 - accuracy: 0.9606 - val_loss: 0.1224 - val_accuracy: 0.9628\n",
            "Epoch 92/100\n",
            "12/12 [==============================] - 0s 5ms/step - loss: 0.1227 - accuracy: 0.9606 - val_loss: 0.1217 - val_accuracy: 0.9628\n",
            "Epoch 93/100\n",
            "12/12 [==============================] - 0s 5ms/step - loss: 0.1219 - accuracy: 0.9606 - val_loss: 0.1210 - val_accuracy: 0.9628\n",
            "Epoch 94/100\n",
            "12/12 [==============================] - 0s 5ms/step - loss: 0.1211 - accuracy: 0.9606 - val_loss: 0.1203 - val_accuracy: 0.9628\n",
            "Epoch 95/100\n",
            "12/12 [==============================] - 0s 6ms/step - loss: 0.1204 - accuracy: 0.9633 - val_loss: 0.1196 - val_accuracy: 0.9628\n",
            "Epoch 96/100\n",
            "12/12 [==============================] - 0s 4ms/step - loss: 0.1196 - accuracy: 0.9633 - val_loss: 0.1189 - val_accuracy: 0.9628\n",
            "Epoch 97/100\n",
            "12/12 [==============================] - 0s 5ms/step - loss: 0.1189 - accuracy: 0.9633 - val_loss: 0.1182 - val_accuracy: 0.9628\n",
            "Epoch 98/100\n",
            "12/12 [==============================] - 0s 6ms/step - loss: 0.1182 - accuracy: 0.9633 - val_loss: 0.1176 - val_accuracy: 0.9628\n",
            "Epoch 99/100\n",
            "12/12 [==============================] - 0s 6ms/step - loss: 0.1175 - accuracy: 0.9633 - val_loss: 0.1169 - val_accuracy: 0.9628\n",
            "Epoch 100/100\n",
            "12/12 [==============================] - 0s 5ms/step - loss: 0.1168 - accuracy: 0.9633 - val_loss: 0.1162 - val_accuracy: 0.9628\n"
          ]
        }
      ]
    },
    {
      "cell_type": "code",
      "source": [
        "# Evaluate the model - evaluate() returns loss and accuracy\n",
        "print('Train Score=',model.evaluate(X_train,y_train))\n",
        "print('Test Score=',model.evaluate(X_test,y_test))"
      ],
      "metadata": {
        "colab": {
          "base_uri": "https://localhost:8080/"
        },
        "id": "S2z64FkrOOFq",
        "outputId": "a17771d4-d7da-48b9-b4f5-1d66656ab351"
      },
      "execution_count": 23,
      "outputs": [
        {
          "output_type": "stream",
          "name": "stdout",
          "text": [
            "12/12 [==============================] - 0s 2ms/step - loss: 0.1164 - accuracy: 0.9633\n",
            "Train Score= [0.1163991391658783, 0.9632545709609985]\n",
            "6/6 [==============================] - 0s 3ms/step - loss: 0.1162 - accuracy: 0.9628\n",
            "Test Score= [0.11623893678188324, 0.9627659320831299]\n"
          ]
        }
      ]
    },
    {
      "cell_type": "code",
      "source": [
        "#Plotting loss\n",
        "\n",
        "import matplotlib.pyplot as plt\n",
        "\n",
        "plt.plot(r.history['loss'],label='loss')\n",
        "plt.plot(r.history['val_loss'],label='val_loss')\n",
        "plt.title('Loss vs Val_Loss')\n",
        "plt.xlabel('loss')\n",
        "plt.ylabel('iterations')\n",
        "plt.legend\n",
        "plt.show()"
      ],
      "metadata": {
        "colab": {
          "base_uri": "https://localhost:8080/",
          "height": 295
        },
        "id": "-rVyQU5tOOCb",
        "outputId": "e35a9815-7e50-4271-f75c-9f05ef8e342b"
      },
      "execution_count": 25,
      "outputs": [
        {
          "output_type": "display_data",
          "data": {
            "text/plain": [
              "<Figure size 432x288 with 1 Axes>"
            ],
            "image/png": "[encoded data removed]"
          },
          "metadata": {
            "needs_background": "light"
          }
        }
      ]
    },
    {
      "cell_type": "code",
      "source": [
        "# Plot the accuracy\n",
        "\n",
        "import matplotlib.pyplot as plt\n",
        "\n",
        "plt.plot(r.history['accuracy'], label=\"acc\")\n",
        "plt.plot(r.history['val_accuracy'], label=\"val_acc\")\n",
        "plt.title(\"Accuracy and val_Accuracy\", loc=\"center\")\n",
        "plt.xlabel(\"Accuracy\")\n",
        "plt.ylabel(\"Iterations\")\n",
        "plt.legend()\n",
        "plt.show()"
      ],
      "metadata": {
        "colab": {
          "base_uri": "https://localhost:8080/",
          "height": 295
        },
        "id": "RypvnCRAON-S",
        "outputId": "58618aef-96c4-44ba-f860-fd15d4e7af7d"
      },
      "execution_count": 26,
      "outputs": [
        {
          "output_type": "display_data",
          "data": {
            "text/plain": [
              "<Figure size 432x288 with 1 Axes>"
            ],
            "image/png": "[encoded data removed]"
          },
          "metadata": {
            "needs_background": "light"
          }
        }
      ]
    },
    {
      "cell_type": "code",
      "source": [
        "y_pred = model.predict(X_test)\n",
        "print(y_pred) # they are outputs of the sigmoid, interpreted as probabilities"
      ],
      "metadata": {
        "colab": {
          "base_uri": "https://localhost:8080/"
        },
        "id": "chC3DWRobci9",
        "outputId": "f21b2074-ef42-4bd8-c317-f35e94056f9e"
      },
      "execution_count": 27,
      "outputs": [
        {
          "output_type": "stream",
          "name": "stdout",
          "text": [
            "[[9.9616396e-01]\n",
            " [9.7436249e-01]\n",
            " [1.3420135e-02]\n",
            " [9.1926026e-01]\n",
            " [9.9863815e-01]\n",
            " [9.2273796e-01]\n",
            " [2.4113297e-02]\n",
            " [2.1730334e-02]\n",
            " [9.3921900e-02]\n",
            " [9.7597706e-01]\n",
            " [9.9448746e-01]\n",
            " [9.9543470e-01]\n",
            " [9.9449611e-01]\n",
            " [9.8014016e-07]\n",
            " [9.0611488e-01]\n",
            " [6.9740117e-03]\n",
            " [9.7304201e-01]\n",
            " [9.9692994e-01]\n",
            " [9.1153812e-01]\n",
            " [9.2663628e-01]\n",
            " [9.9664855e-01]\n",
            " [7.8553391e-01]\n",
            " [9.0176976e-01]\n",
            " [9.5897830e-01]\n",
            " [6.2051415e-04]\n",
            " [1.0384917e-03]\n",
            " [7.7966881e-01]\n",
            " [5.3636730e-03]\n",
            " [8.4989619e-01]\n",
            " [3.1596366e-01]\n",
            " [9.4027817e-01]\n",
            " [1.6777235e-01]\n",
            " [9.7585613e-01]\n",
            " [7.6404691e-01]\n",
            " [9.7125429e-01]\n",
            " [8.9798212e-01]\n",
            " [9.9834621e-01]\n",
            " [9.1251731e-04]\n",
            " [1.8466413e-02]\n",
            " [8.6536866e-01]\n",
            " [1.8834859e-01]\n",
            " [8.1979424e-01]\n",
            " [8.4279478e-01]\n",
            " [2.5624335e-03]\n",
            " [1.0805428e-03]\n",
            " [9.7924447e-01]\n",
            " [9.9559021e-01]\n",
            " [9.8425519e-01]\n",
            " [2.7388126e-02]\n",
            " [9.9601007e-01]\n",
            " [9.8433721e-01]\n",
            " [1.9200133e-06]\n",
            " [9.9463129e-01]\n",
            " [2.3863703e-02]\n",
            " [9.5103443e-01]\n",
            " [8.6331367e-04]\n",
            " [8.0652523e-01]\n",
            " [5.0239986e-01]\n",
            " [9.9615300e-01]\n",
            " [9.3661344e-01]\n",
            " [9.9518192e-01]\n",
            " [9.8918641e-01]\n",
            " [1.0195673e-03]\n",
            " [3.0554682e-02]\n",
            " [3.3727080e-02]\n",
            " [9.3726385e-01]\n",
            " [8.8182092e-04]\n",
            " [8.6942661e-01]\n",
            " [5.8068973e-01]\n",
            " [7.8553772e-01]\n",
            " [9.6044791e-01]\n",
            " [9.6950245e-01]\n",
            " [7.9367757e-01]\n",
            " [1.1301041e-03]\n",
            " [9.7851551e-01]\n",
            " [9.9650657e-01]\n",
            " [1.2348235e-02]\n",
            " [9.8308510e-01]\n",
            " [4.7766894e-02]\n",
            " [2.7016312e-02]\n",
            " [9.9949473e-01]\n",
            " [6.2334073e-01]\n",
            " [1.9708276e-04]\n",
            " [7.4280113e-01]\n",
            " [9.7777486e-01]\n",
            " [6.8673098e-01]\n",
            " [8.6962938e-01]\n",
            " [9.6892142e-01]\n",
            " [9.1247386e-01]\n",
            " [8.7765479e-01]\n",
            " [6.8697500e-06]\n",
            " [1.4296025e-02]\n",
            " [9.6734762e-03]\n",
            " [9.2765373e-01]\n",
            " [1.1053979e-03]\n",
            " [9.9719942e-01]\n",
            " [4.0277094e-02]\n",
            " [9.8492157e-01]\n",
            " [9.5519435e-01]\n",
            " [4.9747863e-01]\n",
            " [8.9655566e-01]\n",
            " [9.9428260e-01]\n",
            " [1.9304156e-03]\n",
            " [1.4865100e-02]\n",
            " [7.8019202e-03]\n",
            " [3.0082464e-04]\n",
            " [9.4771063e-01]\n",
            " [9.9174058e-01]\n",
            " [9.7812474e-01]\n",
            " [7.3047990e-01]\n",
            " [8.2871503e-01]\n",
            " [3.6221799e-01]\n",
            " [2.0203161e-01]\n",
            " [9.5656323e-01]\n",
            " [9.8758709e-01]\n",
            " [9.4013989e-01]\n",
            " [1.7024836e-01]\n",
            " [5.8452266e-01]\n",
            " [8.1923413e-01]\n",
            " [1.6786566e-01]\n",
            " [9.9973023e-01]\n",
            " [9.9847019e-03]\n",
            " [1.3312519e-02]\n",
            " [9.2895013e-01]\n",
            " [5.3164065e-03]\n",
            " [3.3462489e-01]\n",
            " [9.6747732e-01]\n",
            " [1.2697905e-02]\n",
            " [4.2895138e-01]\n",
            " [5.1105320e-03]\n",
            " [2.1763197e-01]\n",
            " [6.8879718e-01]\n",
            " [9.7428548e-01]\n",
            " [1.9359142e-02]\n",
            " [8.7785780e-01]\n",
            " [8.2605064e-01]\n",
            " [9.9300164e-01]\n",
            " [9.7289681e-03]\n",
            " [8.5148633e-01]\n",
            " [9.6922362e-01]\n",
            " [7.2191322e-01]\n",
            " [2.6774585e-02]\n",
            " [9.9741739e-01]\n",
            " [9.8728865e-01]\n",
            " [9.9478412e-01]\n",
            " [5.0532818e-04]\n",
            " [9.9588025e-01]\n",
            " [9.8856330e-01]\n",
            " [7.1000576e-02]\n",
            " [8.6077523e-01]\n",
            " [9.7229922e-01]\n",
            " [9.9815321e-01]\n",
            " [8.8612574e-01]\n",
            " [9.9757522e-01]\n",
            " [9.5139110e-01]\n",
            " [8.9448375e-01]\n",
            " [9.9041319e-01]\n",
            " [9.9899060e-01]\n",
            " [9.9088633e-01]\n",
            " [9.6771485e-01]\n",
            " [5.0225854e-04]\n",
            " [9.8524296e-01]\n",
            " [1.5162528e-03]\n",
            " [6.9995821e-03]\n",
            " [1.7253797e-06]\n",
            " [9.5823807e-01]\n",
            " [5.0786448e-01]\n",
            " [9.9388373e-01]\n",
            " [1.2451112e-03]\n",
            " [4.6040672e-01]\n",
            " [5.6172264e-01]\n",
            " [6.7476785e-01]\n",
            " [9.9549466e-01]\n",
            " [1.9955367e-02]\n",
            " [8.7579638e-02]\n",
            " [6.0950071e-02]\n",
            " [9.5878100e-01]\n",
            " [5.7645619e-01]\n",
            " [9.9346244e-01]\n",
            " [3.7419498e-03]\n",
            " [9.9813169e-01]\n",
            " [4.6951190e-01]\n",
            " [9.9816370e-01]\n",
            " [1.2257272e-01]\n",
            " [9.9357688e-01]\n",
            " [9.4154334e-01]\n",
            " [9.9314106e-01]\n",
            " [9.9043071e-01]]\n"
          ]
        }
      ]
    },
    {
      "cell_type": "code",
      "source": [
        "import numpy as np\n",
        "np.round(y_pred)"
      ],
      "metadata": {
        "id": "ndYXhpnD5RQv",
        "colab": {
          "base_uri": "https://localhost:8080/"
        },
        "outputId": "752f0c9b-8a33-4172-aa8c-e831a744a715"
      },
      "execution_count": 28,
      "outputs": [
        {
          "output_type": "execute_result",
          "data": {
            "text/plain": [
              "array([[1.],\n",
              "       [1.],\n",
              "       [0.],\n",
              "       [1.],\n",
              "       [1.],\n",
              "       [1.],\n",
              "       [0.],\n",
              "       [0.],\n",
              "       [0.],\n",
              "       [1.],\n",
              "       [1.],\n",
              "       [1.],\n",
              "       [1.],\n",
              "       [0.],\n",
              "       [1.],\n",
              "       [0.],\n",
              "       [1.],\n",
              "       [1.],\n",
              "       [1.],\n",
              "       [1.],\n",
              "       [1.],\n",
              "       [1.],\n",
              "       [1.],\n",
              "       [1.],\n",
              "       [0.],\n",
              "       [0.],\n",
              "       [1.],\n",
              "       [0.],\n",
              "       [1.],\n",
              "       [0.],\n",
              "       [1.],\n",
              "       [0.],\n",
              "       [1.],\n",
              "       [1.],\n",
              "       [1.],\n",
              "       [1.],\n",
              "       [1.],\n",
              "       [0.],\n",
              "       [0.],\n",
              "       [1.],\n",
              "       [0.],\n",
              "       [1.],\n",
              "       [1.],\n",
              "       [0.],\n",
              "       [0.],\n",
              "       [1.],\n",
              "       [1.],\n",
              "       [1.],\n",
              "       [0.],\n",
              "       [1.],\n",
              "       [1.],\n",
              "       [0.],\n",
              "       [1.],\n",
              "       [0.],\n",
              "       [1.],\n",
              "       [0.],\n",
              "       [1.],\n",
              "       [1.],\n",
              "       [1.],\n",
              "       [1.],\n",
              "       [1.],\n",
              "       [1.],\n",
              "       [0.],\n",
              "       [0.],\n",
              "       [0.],\n",
              "       [1.],\n",
              "       [0.],\n",
              "       [1.],\n",
              "       [1.],\n",
              "       [1.],\n",
              "       [1.],\n",
              "       [1.],\n",
              "       [1.],\n",
              "       [0.],\n",
              "       [1.],\n",
              "       [1.],\n",
              "       [0.],\n",
              "       [1.],\n",
              "       [0.],\n",
              "       [0.],\n",
              "       [1.],\n",
              "       [1.],\n",
              "       [0.],\n",
              "       [1.],\n",
              "       [1.],\n",
              "       [1.],\n",
              "       [1.],\n",
              "       [1.],\n",
              "       [1.],\n",
              "       [1.],\n",
              "       [0.],\n",
              "       [0.],\n",
              "       [0.],\n",
              "       [1.],\n",
              "       [0.],\n",
              "       [1.],\n",
              "       [0.],\n",
              "       [1.],\n",
              "       [1.],\n",
              "       [0.],\n",
              "       [1.],\n",
              "       [1.],\n",
              "       [0.],\n",
              "       [0.],\n",
              "       [0.],\n",
              "       [0.],\n",
              "       [1.],\n",
              "       [1.],\n",
              "       [1.],\n",
              "       [1.],\n",
              "       [1.],\n",
              "       [0.],\n",
              "       [0.],\n",
              "       [1.],\n",
              "       [1.],\n",
              "       [1.],\n",
              "       [0.],\n",
              "       [1.],\n",
              "       [1.],\n",
              "       [0.],\n",
              "       [1.],\n",
              "       [0.],\n",
              "       [0.],\n",
              "       [1.],\n",
              "       [0.],\n",
              "       [0.],\n",
              "       [1.],\n",
              "       [0.],\n",
              "       [0.],\n",
              "       [0.],\n",
              "       [0.],\n",
              "       [1.],\n",
              "       [1.],\n",
              "       [0.],\n",
              "       [1.],\n",
              "       [1.],\n",
              "       [1.],\n",
              "       [0.],\n",
              "       [1.],\n",
              "       [1.],\n",
              "       [1.],\n",
              "       [0.],\n",
              "       [1.],\n",
              "       [1.],\n",
              "       [1.],\n",
              "       [0.],\n",
              "       [1.],\n",
              "       [1.],\n",
              "       [0.],\n",
              "       [1.],\n",
              "       [1.],\n",
              "       [1.],\n",
              "       [1.],\n",
              "       [1.],\n",
              "       [1.],\n",
              "       [1.],\n",
              "       [1.],\n",
              "       [1.],\n",
              "       [1.],\n",
              "       [1.],\n",
              "       [0.],\n",
              "       [1.],\n",
              "       [0.],\n",
              "       [0.],\n",
              "       [0.],\n",
              "       [1.],\n",
              "       [1.],\n",
              "       [1.],\n",
              "       [0.],\n",
              "       [0.],\n",
              "       [1.],\n",
              "       [1.],\n",
              "       [1.],\n",
              "       [0.],\n",
              "       [0.],\n",
              "       [0.],\n",
              "       [1.],\n",
              "       [1.],\n",
              "       [1.],\n",
              "       [0.],\n",
              "       [1.],\n",
              "       [0.],\n",
              "       [1.],\n",
              "       [0.],\n",
              "       [1.],\n",
              "       [1.],\n",
              "       [1.],\n",
              "       [1.]], dtype=float32)"
            ]
          },
          "metadata": {},
          "execution_count": 28
        }
      ]
    },
    {
      "cell_type": "code",
      "source": [
        "y_pred = np.round(y_pred).flatten()\n",
        "print(y_pred)"
      ],
      "metadata": {
        "colab": {
          "base_uri": "https://localhost:8080/"
        },
        "id": "rwaToxmnbz4r",
        "outputId": "b1113056-23ac-46c0-e767-83eb6fe011e3"
      },
      "execution_count": 29,
      "outputs": [
        {
          "output_type": "stream",
          "name": "stdout",
          "text": [
            "[1. 1. 0. 1. 1. 1. 0. 0. 0. 1. 1. 1. 1. 0. 1. 0. 1. 1. 1. 1. 1. 1. 1. 1.\n",
            " 0. 0. 1. 0. 1. 0. 1. 0. 1. 1. 1. 1. 1. 0. 0. 1. 0. 1. 1. 0. 0. 1. 1. 1.\n",
            " 0. 1. 1. 0. 1. 0. 1. 0. 1. 1. 1. 1. 1. 1. 0. 0. 0. 1. 0. 1. 1. 1. 1. 1.\n",
            " 1. 0. 1. 1. 0. 1. 0. 0. 1. 1. 0. 1. 1. 1. 1. 1. 1. 1. 0. 0. 0. 1. 0. 1.\n",
            " 0. 1. 1. 0. 1. 1. 0. 0. 0. 0. 1. 1. 1. 1. 1. 0. 0. 1. 1. 1. 0. 1. 1. 0.\n",
            " 1. 0. 0. 1. 0. 0. 1. 0. 0. 0. 0. 1. 1. 0. 1. 1. 1. 0. 1. 1. 1. 0. 1. 1.\n",
            " 1. 0. 1. 1. 0. 1. 1. 1. 1. 1. 1. 1. 1. 1. 1. 1. 0. 1. 0. 0. 0. 1. 1. 1.\n",
            " 0. 0. 1. 1. 1. 0. 0. 0. 1. 1. 1. 0. 1. 0. 1. 0. 1. 1. 1. 1.]\n"
          ]
        }
      ]
    },
    {
      "cell_type": "code",
      "source": [
        "# Calculate the accuracy, compare it to evaluate() output\n",
        "\n",
        "print(\"Manually calculated accuracy:\", np.mean(y_pred == y_test))\n",
        "print(\"Evaluate output:\", model.evaluate(X_test, y_test))"
      ],
      "metadata": {
        "colab": {
          "base_uri": "https://localhost:8080/"
        },
        "id": "sYtmhpMib5uG",
        "outputId": "ee26f9d6-1be1-4829-8949-7e0277349e11"
      },
      "execution_count": 30,
      "outputs": [
        {
          "output_type": "stream",
          "name": "stdout",
          "text": [
            "Manually calculated accuracy: 0.9627659574468085\n",
            "6/6 [==============================] - 0s 2ms/step - loss: 0.1162 - accuracy: 0.9628\n",
            "Evaluate output: [0.11623893678188324, 0.9627659320831299]\n"
          ]
        }
      ]
    },
    {
      "cell_type": "code",
      "source": [
        ""
      ],
      "metadata": {
        "id": "TZbn5Rf-b_9s"
      },
      "execution_count": null,
      "outputs": []
    }
  ]
}